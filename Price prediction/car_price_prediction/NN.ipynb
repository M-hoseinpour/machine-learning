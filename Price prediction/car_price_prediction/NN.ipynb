{
 "cells": [
  {
   "cell_type": "code",
   "execution_count": 602,
   "id": "eb4d0d5e",
   "metadata": {},
   "outputs": [],
   "source": [
    "import pandas as pd\n",
    "from sklearn.preprocessing import OneHotEncoder, LabelEncoder, StandardScaler, MinMaxScaler\n",
    "from sklearn.model_selection import StratifiedShuffleSplit\n",
    "%matplotlib inline\n",
    "import matplotlib.pyplot as plt\n",
    "import torch\n",
    "import torch.nn as nn\n",
    "import torch.optim as optim\n",
    "from torch.utils.data import DataLoader, Dataset\n",
    "import random\n",
    "import re\n",
    "import numpy as np\n",
    "from sklearn.metrics import r2_score"
   ]
  },
  {
   "cell_type": "markdown",
   "id": "4cb0600b",
   "metadata": {},
   "source": [
    "## pre process"
   ]
  },
  {
   "cell_type": "code",
   "execution_count": 603,
   "id": "1897e0d0",
   "metadata": {},
   "outputs": [],
   "source": [
    "CAR_PATH = \"D:\\Divar-Scraping\\info\\main_info.csv\"\n",
    "dataset = pd.read_csv(CAR_PATH)"
   ]
  },
  {
   "cell_type": "code",
   "execution_count": 604,
   "id": "b946631b",
   "metadata": {},
   "outputs": [
    {
     "data": {
      "text/plain": [
       "(258650, 11)"
      ]
     },
     "execution_count": 604,
     "metadata": {},
     "output_type": "execute_result"
    }
   ],
   "source": [
    "dataset.shape"
   ]
  },
  {
   "cell_type": "code",
   "execution_count": 605,
   "id": "a28836f4",
   "metadata": {},
   "outputs": [
    {
     "data": {
      "text/plain": [
       "Counter({0: 38352,\n",
       "         1: 16702,\n",
       "         12: 13703,\n",
       "         6: 13150,\n",
       "         7: 12041,\n",
       "         5: 11724,\n",
       "         13: 11556,\n",
       "         2: 11240,\n",
       "         14: 11123,\n",
       "         9: 10590,\n",
       "         15: 10220,\n",
       "         8: 9561,\n",
       "         16: 9368,\n",
       "         17: 9224,\n",
       "         4: 8841,\n",
       "         19: 8737,\n",
       "         3: 8530,\n",
       "         18: 8334,\n",
       "         11: 8330,\n",
       "         10: 6441,\n",
       "         20: 6438,\n",
       "         21: 4378,\n",
       "         22: 2859,\n",
       "         23: 1690,\n",
       "         24: 1120,\n",
       "         25: 978,\n",
       "         26: 720,\n",
       "         30: 485,\n",
       "         27: 474,\n",
       "         31: 454,\n",
       "         29: 365,\n",
       "         28: 324,\n",
       "         32: 213,\n",
       "         33: 119,\n",
       "         35: 114,\n",
       "         36: 106,\n",
       "         34: 46})"
      ]
     },
     "execution_count": 605,
     "metadata": {},
     "output_type": "execute_result"
    }
   ],
   "source": [
    "from collections import Counter\n",
    "Counter(dataset['Age'])"
   ]
  },
  {
   "cell_type": "code",
   "execution_count": 606,
   "id": "27a1ec88",
   "metadata": {},
   "outputs": [
    {
     "data": {
      "text/html": [
       "<div>\n",
       "<style scoped>\n",
       "    .dataframe tbody tr th:only-of-type {\n",
       "        vertical-align: middle;\n",
       "    }\n",
       "\n",
       "    .dataframe tbody tr th {\n",
       "        vertical-align: top;\n",
       "    }\n",
       "\n",
       "    .dataframe thead th {\n",
       "        text-align: right;\n",
       "    }\n",
       "</style>\n",
       "<table border=\"1\" class=\"dataframe\">\n",
       "  <thead>\n",
       "    <tr style=\"text-align: right;\">\n",
       "      <th></th>\n",
       "      <th>MotorState</th>\n",
       "      <th>ChassisState</th>\n",
       "      <th>BodyState</th>\n",
       "      <th>Insurance</th>\n",
       "      <th>Gearbox</th>\n",
       "      <th>Price</th>\n",
       "      <th>Usage</th>\n",
       "      <th>Age</th>\n",
       "      <th>Color</th>\n",
       "      <th>FuelType</th>\n",
       "      <th>BrandType</th>\n",
       "    </tr>\n",
       "  </thead>\n",
       "  <tbody>\n",
       "    <tr>\n",
       "      <th>0</th>\n",
       "      <td>سالم</td>\n",
       "      <td>NaN</td>\n",
       "      <td>خط و خش جزیی</td>\n",
       "      <td>8.0</td>\n",
       "      <td>دنده ای</td>\n",
       "      <td>142000000</td>\n",
       "      <td>350000</td>\n",
       "      <td>12</td>\n",
       "      <td>سفید</td>\n",
       "      <td>بنزینی</td>\n",
       "      <td>پراید 131 SL</td>\n",
       "    </tr>\n",
       "    <tr>\n",
       "      <th>1</th>\n",
       "      <td>سالم</td>\n",
       "      <td>NaN</td>\n",
       "      <td>خط و خش جزیی</td>\n",
       "      <td>6.0</td>\n",
       "      <td>دنده ای</td>\n",
       "      <td>124000000</td>\n",
       "      <td>247000</td>\n",
       "      <td>18</td>\n",
       "      <td>مشکی</td>\n",
       "      <td>دوگانه سوز شرکتی</td>\n",
       "      <td>پراید صندوق‌دار CNG</td>\n",
       "    </tr>\n",
       "    <tr>\n",
       "      <th>2</th>\n",
       "      <td>سالم</td>\n",
       "      <td>NaN</td>\n",
       "      <td>خط و خش جزیی</td>\n",
       "      <td>2.0</td>\n",
       "      <td>دنده ای</td>\n",
       "      <td>133000000</td>\n",
       "      <td>500000</td>\n",
       "      <td>15</td>\n",
       "      <td>طوسی</td>\n",
       "      <td>دوگانه سوز شرکتی</td>\n",
       "      <td>پراید صندوق‌دار بنزینی</td>\n",
       "    </tr>\n",
       "    <tr>\n",
       "      <th>3</th>\n",
       "      <td>سالم</td>\n",
       "      <td>سالم و پلمپ</td>\n",
       "      <td>خط و خش جزیی</td>\n",
       "      <td>9.0</td>\n",
       "      <td>دنده ای</td>\n",
       "      <td>365000000</td>\n",
       "      <td>330000</td>\n",
       "      <td>12</td>\n",
       "      <td>نقره‌ای</td>\n",
       "      <td>بنزینی</td>\n",
       "      <td>پراید اتوماتیک</td>\n",
       "    </tr>\n",
       "    <tr>\n",
       "      <th>4</th>\n",
       "      <td>NaN</td>\n",
       "      <td>سالم و پلمپ</td>\n",
       "      <td>سالم و بی‌خط و خش</td>\n",
       "      <td>NaN</td>\n",
       "      <td>NaN</td>\n",
       "      <td>442380000</td>\n",
       "      <td>0</td>\n",
       "      <td>0</td>\n",
       "      <td>سفید</td>\n",
       "      <td>بنزینی</td>\n",
       "      <td>ساینا دنده‌ای S</td>\n",
       "    </tr>\n",
       "    <tr>\n",
       "      <th>5</th>\n",
       "      <td>NaN</td>\n",
       "      <td>NaN</td>\n",
       "      <td>سالم و بی‌خط و خش</td>\n",
       "      <td>NaN</td>\n",
       "      <td>NaN</td>\n",
       "      <td>457000000</td>\n",
       "      <td>0</td>\n",
       "      <td>0</td>\n",
       "      <td>سفید</td>\n",
       "      <td>بنزینی</td>\n",
       "      <td>پژو پارس ساده</td>\n",
       "    </tr>\n",
       "    <tr>\n",
       "      <th>6</th>\n",
       "      <td>سالم</td>\n",
       "      <td>NaN</td>\n",
       "      <td>سالم و بی‌خط و خش</td>\n",
       "      <td>6.0</td>\n",
       "      <td>دنده ای</td>\n",
       "      <td>280000000</td>\n",
       "      <td>69000</td>\n",
       "      <td>3</td>\n",
       "      <td>سفید</td>\n",
       "      <td>بنزینی</td>\n",
       "      <td>تیبا 2 (هاچبک) EX</td>\n",
       "    </tr>\n",
       "    <tr>\n",
       "      <th>7</th>\n",
       "      <td>سالم</td>\n",
       "      <td>سالم و پلمپ</td>\n",
       "      <td>خط و خش جزیی</td>\n",
       "      <td>5.0</td>\n",
       "      <td>دنده ای</td>\n",
       "      <td>11000000</td>\n",
       "      <td>123204</td>\n",
       "      <td>21</td>\n",
       "      <td>سفید</td>\n",
       "      <td>بنزینی</td>\n",
       "      <td>پراید صندوق‌دار بنزینی</td>\n",
       "    </tr>\n",
       "    <tr>\n",
       "      <th>8</th>\n",
       "      <td>سالم</td>\n",
       "      <td>سالم و پلمپ</td>\n",
       "      <td>سالم و بی‌خط و خش</td>\n",
       "      <td>12.0</td>\n",
       "      <td>دنده ای</td>\n",
       "      <td>588000000</td>\n",
       "      <td>0</td>\n",
       "      <td>0</td>\n",
       "      <td>سفید</td>\n",
       "      <td>بنزینی</td>\n",
       "      <td>پژو پارس موتور جدید XU7P</td>\n",
       "    </tr>\n",
       "    <tr>\n",
       "      <th>9</th>\n",
       "      <td>سالم</td>\n",
       "      <td>سالم و پلمپ</td>\n",
       "      <td>سالم و بی‌خط و خش</td>\n",
       "      <td>5.0</td>\n",
       "      <td>دنده ای</td>\n",
       "      <td>385000000</td>\n",
       "      <td>65000</td>\n",
       "      <td>4</td>\n",
       "      <td>نوک‌مدادی</td>\n",
       "      <td>بنزینی</td>\n",
       "      <td>پژو 405 GLX بنزینی</td>\n",
       "    </tr>\n",
       "  </tbody>\n",
       "</table>\n",
       "</div>"
      ],
      "text/plain": [
       "  MotorState ChassisState          BodyState  Insurance  Gearbox      Price  \\\n",
       "0       سالم          NaN       خط و خش جزیی        8.0  دنده ای  142000000   \n",
       "1       سالم          NaN       خط و خش جزیی        6.0  دنده ای  124000000   \n",
       "2       سالم          NaN       خط و خش جزیی        2.0  دنده ای  133000000   \n",
       "3       سالم  سالم و پلمپ       خط و خش جزیی        9.0  دنده ای  365000000   \n",
       "4        NaN  سالم و پلمپ  سالم و بی‌خط و خش        NaN      NaN  442380000   \n",
       "5        NaN          NaN  سالم و بی‌خط و خش        NaN      NaN  457000000   \n",
       "6       سالم          NaN  سالم و بی‌خط و خش        6.0  دنده ای  280000000   \n",
       "7       سالم  سالم و پلمپ       خط و خش جزیی        5.0  دنده ای   11000000   \n",
       "8       سالم  سالم و پلمپ  سالم و بی‌خط و خش       12.0  دنده ای  588000000   \n",
       "9       سالم  سالم و پلمپ  سالم و بی‌خط و خش        5.0  دنده ای  385000000   \n",
       "\n",
       "    Usage  Age      Color          FuelType                 BrandType  \n",
       "0  350000   12       سفید            بنزینی              پراید 131 SL  \n",
       "1  247000   18       مشکی  دوگانه سوز شرکتی       پراید صندوق‌دار CNG  \n",
       "2  500000   15       طوسی  دوگانه سوز شرکتی    پراید صندوق‌دار بنزینی  \n",
       "3  330000   12    نقره‌ای            بنزینی            پراید اتوماتیک  \n",
       "4       0    0       سفید            بنزینی           ساینا دنده‌ای S  \n",
       "5       0    0       سفید            بنزینی             پژو پارس ساده  \n",
       "6   69000    3       سفید            بنزینی         تیبا 2 (هاچبک) EX  \n",
       "7  123204   21       سفید            بنزینی    پراید صندوق‌دار بنزینی  \n",
       "8       0    0       سفید            بنزینی  پژو پارس موتور جدید XU7P  \n",
       "9   65000    4  نوک‌مدادی            بنزینی        پژو 405 GLX بنزینی  "
      ]
     },
     "execution_count": 606,
     "metadata": {},
     "output_type": "execute_result"
    }
   ],
   "source": [
    "dataset.head(10)"
   ]
  },
  {
   "cell_type": "code",
   "execution_count": 607,
   "id": "43aa33e0",
   "metadata": {},
   "outputs": [
    {
     "name": "stdout",
     "output_type": "stream",
     "text": [
      "<class 'pandas.core.frame.DataFrame'>\n",
      "RangeIndex: 258650 entries, 0 to 258649\n",
      "Data columns (total 11 columns):\n",
      " #   Column        Non-Null Count   Dtype  \n",
      "---  ------        --------------   -----  \n",
      " 0   MotorState    245839 non-null  object \n",
      " 1   ChassisState  219819 non-null  object \n",
      " 2   BodyState     258412 non-null  object \n",
      " 3   Insurance     234872 non-null  float64\n",
      " 4   Gearbox       237184 non-null  object \n",
      " 5   Price         258650 non-null  int64  \n",
      " 6   Usage         258650 non-null  int64  \n",
      " 7   Age           258650 non-null  int64  \n",
      " 8   Color         258650 non-null  object \n",
      " 9   FuelType      210001 non-null  object \n",
      " 10  BrandType     258650 non-null  object \n",
      "dtypes: float64(1), int64(3), object(7)\n",
      "memory usage: 21.7+ MB\n"
     ]
    }
   ],
   "source": [
    "dataset.info()"
   ]
  },
  {
   "cell_type": "code",
   "execution_count": 608,
   "id": "f1d47fe0",
   "metadata": {},
   "outputs": [
    {
     "data": {
      "text/plain": [
       "MotorState       object\n",
       "ChassisState     object\n",
       "BodyState        object\n",
       "Insurance       float64\n",
       "Gearbox          object\n",
       "Price             int64\n",
       "Usage             int64\n",
       "Age               int64\n",
       "Color            object\n",
       "FuelType         object\n",
       "BrandType        object\n",
       "dtype: object"
      ]
     },
     "execution_count": 608,
     "metadata": {},
     "output_type": "execute_result"
    }
   ],
   "source": [
    "dataset.dtypes"
   ]
  },
  {
   "cell_type": "code",
   "execution_count": 609,
   "id": "f9b96c0d",
   "metadata": {},
   "outputs": [
    {
     "data": {
      "image/png": "[encoded data removed]",
      "text/plain": [
       "<Figure size 2000x1500 with 4 Axes>"
      ]
     },
     "metadata": {},
     "output_type": "display_data"
    }
   ],
   "source": [
    "dataset[[\"Usage\", \"Age\", \"Insurance\"]].hist(bins=50, figsize=(20,15))\n",
    "plt.show()"
   ]
  },
  {
   "cell_type": "markdown",
   "id": "3fe26388",
   "metadata": {},
   "source": [
    "### delete outliers"
   ]
  },
  {
   "cell_type": "code",
   "execution_count": 610,
   "id": "252f1fc3",
   "metadata": {},
   "outputs": [
    {
     "data": {
      "text/plain": [
       "5326"
      ]
     },
     "execution_count": 610,
     "metadata": {},
     "output_type": "execute_result"
    }
   ],
   "source": [
    "len(dataset[dataset[\"Price\"] <= 30_000_000])"
   ]
  },
  {
   "cell_type": "code",
   "execution_count": 611,
   "id": "d47ed925",
   "metadata": {},
   "outputs": [
    {
     "data": {
      "text/plain": [
       "1760"
      ]
     },
     "execution_count": 611,
     "metadata": {},
     "output_type": "execute_result"
    }
   ],
   "source": [
    "len(dataset[dataset[\"Price\"] >= 5_000_000_000])"
   ]
  },
  {
   "cell_type": "code",
   "execution_count": 612,
   "id": "7dcc3bb1",
   "metadata": {},
   "outputs": [],
   "source": [
    "dataset = dataset[dataset[\"Price\"] > 30_000_000]\n",
    "dataset = dataset[dataset[\"Price\"] <= 5_000_000_000]"
   ]
  },
  {
   "cell_type": "markdown",
   "id": "73f88069",
   "metadata": {},
   "source": [
    "### delete bad data"
   ]
  },
  {
   "cell_type": "code",
   "execution_count": 613,
   "id": "3e1fd424",
   "metadata": {},
   "outputs": [
    {
     "data": {
      "text/plain": [
       "5266"
      ]
     },
     "execution_count": 613,
     "metadata": {},
     "output_type": "execute_result"
    }
   ],
   "source": [
    "len(dataset[dataset[\"Price\"] == 111_111_111])"
   ]
  },
  {
   "cell_type": "code",
   "execution_count": 614,
   "id": "b47954b7",
   "metadata": {},
   "outputs": [
    {
     "name": "stderr",
     "output_type": "stream",
     "text": [
      "C:\\Users\\mosta\\AppData\\Local\\Temp\\ipykernel_8972\\991693960.py:10: UserWarning: This pattern is interpreted as a regular expression, and has match groups. To actually get the groups, use str.extract.\n",
      "  matching_indices = dataset[dataset['Price'].astype(str).str.contains(regex)].index\n"
     ]
    }
   ],
   "source": [
    "# Pattern to match sequences of at least 4 identical digits\n",
    "pattern_same_digit = r'(\\d)\\1{3,}'\n",
    "\n",
    "# Pattern to exclude any sequences of zeros\n",
    "pattern_exclude_zeros = r'(?!0+)'\n",
    "\n",
    "# Combine the patterns with logical AND\n",
    "regex = rf'\\b{pattern_same_digit}(?={pattern_exclude_zeros})\\d+\\b'\n",
    "\n",
    "matching_indices = dataset[dataset['Price'].astype(str).str.contains(regex)].index\n",
    "\n",
    "dataset = dataset.drop(matching_indices)"
   ]
  },
  {
   "cell_type": "code",
   "execution_count": 615,
   "id": "697d1554",
   "metadata": {},
   "outputs": [
    {
     "data": {
      "text/plain": [
       "260"
      ]
     },
     "execution_count": 615,
     "metadata": {},
     "output_type": "execute_result"
    }
   ],
   "source": [
    "price_values_to_delete = [123_456_789, 987_654_321, 87_654_321, 234_567_891, 345_678_910]\n",
    "mask = dataset['Price'].isin(price_values_to_delete)\n",
    "len(dataset[mask])"
   ]
  },
  {
   "cell_type": "code",
   "execution_count": 616,
   "id": "cc7c7c25",
   "metadata": {},
   "outputs": [],
   "source": [
    "dataset = dataset[~mask]"
   ]
  },
  {
   "cell_type": "code",
   "execution_count": 617,
   "id": "bf07d8b8",
   "metadata": {},
   "outputs": [
    {
     "name": "stdout",
     "output_type": "stream",
     "text": [
      "<class 'pandas.core.frame.DataFrame'>\n",
      "Index: 242829 entries, 0 to 258649\n",
      "Data columns (total 11 columns):\n",
      " #   Column        Non-Null Count   Dtype  \n",
      "---  ------        --------------   -----  \n",
      " 0   MotorState    231680 non-null  object \n",
      " 1   ChassisState  206186 non-null  object \n",
      " 2   BodyState     242609 non-null  object \n",
      " 3   Insurance     221985 non-null  float64\n",
      " 4   Gearbox       223642 non-null  object \n",
      " 5   Price         242829 non-null  int64  \n",
      " 6   Usage         242829 non-null  int64  \n",
      " 7   Age           242829 non-null  int64  \n",
      " 8   Color         242829 non-null  object \n",
      " 9   FuelType      201533 non-null  object \n",
      " 10  BrandType     242829 non-null  object \n",
      "dtypes: float64(1), int64(3), object(7)\n",
      "memory usage: 22.2+ MB\n"
     ]
    }
   ],
   "source": [
    "dataset.info()"
   ]
  },
  {
   "cell_type": "code",
   "execution_count": 618,
   "id": "6cea701e",
   "metadata": {},
   "outputs": [],
   "source": [
    "dataset[\"Gearbox\"]      = dataset[\"Gearbox\"].replace({'اتوماتیک': 1, 'دنده ای': 0})\n",
    "dataset[\"MotorState\"]   = dataset[\"MotorState\"].replace({'سالم': 0, 'نیاز به تعمیر': 1, \"تعویض شده\": 2})\n",
    "dataset[\"ChassisState\"] = dataset[\"ChassisState\"].replace({'سالم و پلمپ': 0, 'ضربه خورده': 1, \"رنگ شده\": 2,})\n",
    "dataset[\"FuelType\"]    = dataset[\"FuelType\"].replace({'بنزینی': \"gasoline\",\n",
    "                                                        'دوگانه سوز دستی': 'dual_manual',\n",
    "                                                         \"دوگانه سوز شرکتی\": 'dual_company',\n",
    "                                                           \"گازوئیل\": 'diesel',\n",
    "                                                          })"
   ]
  },
  {
   "cell_type": "code",
   "execution_count": 619,
   "id": "2d200b3a",
   "metadata": {},
   "outputs": [],
   "source": [
    "fill_mode_features = [\"BodyState\", \"ChassisState\", \"MotorState\", \"Gearbox\", \"FuelType\"]\n",
    "\n",
    "for column in fill_mode_features:\n",
    "    mode_value = dataset[column].mode().iloc[0]\n",
    "    dataset[column].fillna(mode_value, inplace=True)\n",
    "    \n",
    "dataset[\"Insurance\"].fillna(0, inplace=True) "
   ]
  },
  {
   "cell_type": "code",
   "execution_count": 620,
   "id": "fa144a5e",
   "metadata": {},
   "outputs": [
    {
     "data": {
      "text/plain": [
       "Price           1.000000\n",
       "Gearbox         0.646560\n",
       "Insurance       0.075328\n",
       "MotorState     -0.052437\n",
       "ChassisState   -0.061758\n",
       "Usage          -0.349452\n",
       "Age            -0.388567\n",
       "Name: Price, dtype: float64"
      ]
     },
     "execution_count": 620,
     "metadata": {},
     "output_type": "execute_result"
    }
   ],
   "source": [
    "corr_matrix = dataset[[\"Insurance\", \"Usage\", \"Age\", \"Price\", \"ChassisState\", \"MotorState\", \"Gearbox\"]].corr()\n",
    "corr_matrix[\"Price\"].sort_values(ascending=False)"
   ]
  },
  {
   "cell_type": "code",
   "execution_count": 621,
   "id": "74b28403",
   "metadata": {},
   "outputs": [
    {
     "data": {
      "text/plain": [
       "BrandType\n",
       "پراید صندوق‌دار بنزینی           12794\n",
       "پژو 206 تیپ ۲                     9541\n",
       "پراید صندوق‌دار CNG               7140\n",
       "پراید 131 SE                      6730\n",
       "پژو 405 GLX بنزینی                6284\n",
       "                                 ...  \n",
       "میتسوبیشی لنسر دنده ای 1600cc        1\n",
       "لکسوس GS 250                         1\n",
       "سوزوکی کیزاشی دنده‌ای                1\n",
       "بی ام و سری 2 اکتیوتور 218i          1\n",
       "اپل آسترا استیشن                     1\n",
       "Name: count, Length: 1116, dtype: int64"
      ]
     },
     "execution_count": 621,
     "metadata": {},
     "output_type": "execute_result"
    }
   ],
   "source": [
    "dataset[\"BrandType\"].value_counts()"
   ]
  },
  {
   "cell_type": "code",
   "execution_count": 622,
   "id": "59721844",
   "metadata": {},
   "outputs": [],
   "source": [
    "data = dataset[[\"FuelType\"]]\n",
    "\n",
    "cat_encoder = OneHotEncoder()\n",
    "housing_cat_1hot = cat_encoder.fit_transform(data)\n",
    "one_hot_array = housing_cat_1hot.toarray()\n",
    "dataset.drop(columns=[\"FuelType\"], inplace=True)\n",
    "dataset[cat_encoder.get_feature_names_out([\"FuelType\"])] = one_hot_array  "
   ]
  },
  {
   "cell_type": "code",
   "execution_count": 623,
   "id": "9658e03e",
   "metadata": {},
   "outputs": [],
   "source": [
    "dataset = dataset.drop(columns=[\"Color\"])\n",
    "# TODO: delete below line and embed when model got bigger\n",
    "dataset = dataset.drop(columns=[\"BodyState\"])"
   ]
  },
  {
   "cell_type": "code",
   "execution_count": 624,
   "id": "be0c03d0",
   "metadata": {},
   "outputs": [],
   "source": [
    "brand_type_counts = dataset[\"BrandType\"].value_counts()\n",
    "categories_to_drop = brand_type_counts[brand_type_counts <= 2000].index\n",
    "\n",
    "# Drop rows where the \"BrandType\" column has values from categories_to_drop\n",
    "dataset = dataset[~dataset[\"BrandType\"].isin(categories_to_drop)]\n",
    "\n",
    "dataset.reset_index(drop=True, inplace=True)"
   ]
  },
  {
   "cell_type": "code",
   "execution_count": 625,
   "id": "399fa5d3",
   "metadata": {},
   "outputs": [],
   "source": [
    "scaler = MinMaxScaler(feature_range=(0, 1))\n",
    "dataset[['Usage']] = \\\n",
    "                scaler.fit_transform(dataset[['Usage']])\n",
    "dataset[['Age']] = \\\n",
    "                scaler.fit_transform(dataset[['Age']])\n",
    "dataset[['Insurance']] = \\\n",
    "                scaler.fit_transform(dataset[['Insurance']])"
   ]
  },
  {
   "cell_type": "code",
   "execution_count": 626,
   "id": "444c815c",
   "metadata": {},
   "outputs": [],
   "source": [
    "dataset.loc[dataset['BrandType'] == 'پراید صندوق\\u200cدار CNG', 'BrandType']  = \"پراید صندوق دار\"\n",
    "dataset.loc[dataset['BrandType'] == 'پراید صندوق\\u200cدار بنزینی', 'BrandType'] = \"پراید صندوق دار\"\n",
    "dataset.loc[dataset['BrandType'] == 'پراید صندوق\\u200cدار LPG', 'BrandType']  = \"پراید صندوق دار\"\n",
    "dataset.loc[dataset['BrandType'] == 'پراید صندوق دار بنزینی', 'BrandType']      = \"پراید صندوق دار\"\n",
    "dataset.loc[dataset['BrandType'] == 'پراید صندوق دار CNG', 'BrandType']       = \"پراید صندوق دار\"\n",
    "\n",
    "dataset.loc[dataset['BrandType'] == 'پراید 141 دوگانه سوز', 'BrandType']       = \"پراید 141 SX\"\n",
    "dataset.loc[dataset['BrandType'] == 'پراید 141 ساده', 'BrandType']            = \"پراید 141 SX\"\n",
    "\n",
    "dataset.loc[dataset['BrandType'] == 'وانت پراید 151 دوگانه سوز', 'BrandType']    = \"وانت پراید 151 SE\"\n",
    "dataset.loc[dataset['BrandType'] == 'وانت پراید 151 پلاس', 'BrandType']        = \"وانت پراید 151 SE\"\n",
    "\n",
    "dataset.loc[dataset['BrandType'] == 'سمند X7 دوگانه سوز', 'BrandType']        = \"سمند X7\"\n",
    "dataset.loc[dataset['BrandType'] == 'سمند X7 بنزینی', 'BrandType']           = \"سمند X7\"\n",
    "\n",
    "dataset.loc[dataset['BrandType'] == 'تیبا صندوق\\u200cدار EX دوگانه سوز', 'BrandType']   = \"تیبا صندوق\\u200cدار EX\"\n",
    "dataset.loc[dataset['BrandType'] == 'تیبا صندوق\\u200cدار EX دوگانه سوز', 'BrandType']   = \"تیبا صندوق\\u200cدار SX\"\n",
    "dataset.loc[dataset['BrandType'] == 'تیبا صندوق\\u200cدار SX دوگانه سوز', 'BrandType']   = \"تیبا صندوق دار SX\"\n",
    "\n",
    "dataset.loc[dataset['BrandType'] == 'پژو 405 GLX - دوگانه سوز LPG', 'BrandType']   = \"پژو 405 GLX\"\n",
    "dataset.loc[dataset['BrandType'] == 'پژو 405 GLX - دوگانه سوز CNG', 'BrandType']   = \"پژو 405 GLX\"\n",
    "dataset.loc[dataset['BrandType'] == 'پژو 405 GLX بنزینی', 'BrandType']             = \"پژو 405 GLX\"\n",
    "dataset.loc[dataset['BrandType'] == 'پژو 405 جی ال ایکس (GLX)', 'BrandType']      = \"پژو 405 GLX\"\n",
    "\n",
    "dataset.loc[dataset['BrandType'] == 'پژو 405 بنزینی GLX - TU5', 'BrandType']      = \"پژو 405 GLX - TU5\"\n",
    "dataset.loc[dataset['BrandType'] == 'پژو 405 دوگانه سوز GLX - TU5', 'BrandType']      = \"پژو 405 GLX - TU5\""
   ]
  },
  {
   "cell_type": "code",
   "execution_count": 627,
   "id": "b2cdeb1a",
   "metadata": {},
   "outputs": [
    {
     "data": {
      "text/plain": [
       "27"
      ]
     },
     "execution_count": 627,
     "metadata": {},
     "output_type": "execute_result"
    }
   ],
   "source": [
    "len(dataset[\"BrandType\"].unique())"
   ]
  },
  {
   "cell_type": "code",
   "execution_count": 628,
   "id": "cf29f1c8",
   "metadata": {},
   "outputs": [
    {
     "data": {
      "text/plain": [
       "(['پژو پارس دوگانه سوز', 'پراید 131 دوگانه سوز'], 2)"
      ]
     },
     "execution_count": 628,
     "metadata": {},
     "output_type": "execute_result"
    }
   ],
   "source": [
    "u = dataset['BrandType'].unique()\n",
    "values_containing_value = [value for value in u if \"دوگانه\" in value]\n",
    "values_containing_value, len(values_containing_value)"
   ]
  },
  {
   "cell_type": "code",
   "execution_count": 629,
   "id": "4a2dd487",
   "metadata": {},
   "outputs": [
    {
     "data": {
      "text/plain": [
       "0"
      ]
     },
     "execution_count": 629,
     "metadata": {},
     "output_type": "execute_result"
    }
   ],
   "source": [
    "len(dataset[dataset[\"BrandType\"] == \"پژو 405 GLX - TU5\"])"
   ]
  },
  {
   "cell_type": "code",
   "execution_count": 630,
   "id": "173151fd",
   "metadata": {},
   "outputs": [
    {
     "data": {
      "text/plain": [
       "BrandType\n",
       "پراید صندوق دار    19934\n",
       "پژو 405 GLX        13745\n",
       "پژو 206 تیپ ۲       9541\n",
       "پراید 131 SE        6730\n",
       "پژو پارس سال        6047\n",
       "پژو پارس LX TU5     5210\n",
       "سمند LX ساده        5000\n",
       "پیکان وانت CNG      3930\n",
       "پژو پارس ساده       3763\n",
       "پژو 206 تیپ ۵       3185\n",
       "Name: count, dtype: int64"
      ]
     },
     "execution_count": 630,
     "metadata": {},
     "output_type": "execute_result"
    }
   ],
   "source": [
    "dataset[\"BrandType\"].value_counts()[:10]"
   ]
  },
  {
   "cell_type": "code",
   "execution_count": 631,
   "id": "e8403d72",
   "metadata": {},
   "outputs": [],
   "source": [
    "brand_to_index = {brand: i for i, brand in enumerate(dataset['BrandType'].unique())}\n",
    "index_to_brand = {index: brand for index, brand in enumerate(dataset['BrandType'].unique())}\n",
    "\n",
    "dataset['BrandType'] = dataset['BrandType'].map(brand_to_index)"
   ]
  },
  {
   "cell_type": "code",
   "execution_count": 632,
   "id": "b13903fe",
   "metadata": {},
   "outputs": [],
   "source": [
    "# body_to_index = {body: i for i, body in enumerate(dataset['BodyState'].unique())}\n",
    "# index_to_body = {index: body for index, body in enumerate(dataset['BodyState'].unique())}\n",
    "\n",
    "# dataset['BodyState'] = dataset['BodyState'].map(body_to_index)"
   ]
  },
  {
   "cell_type": "code",
   "execution_count": 633,
   "id": "c79eda67",
   "metadata": {},
   "outputs": [
    {
     "data": {
      "text/plain": [
       "BrandType\n",
       "0     19934\n",
       "5     13745\n",
       "7      9541\n",
       "10     6730\n",
       "20     6047\n",
       "6      5210\n",
       "23     5000\n",
       "24     3930\n",
       "2      3763\n",
       "22     3185\n",
       "Name: count, dtype: int64"
      ]
     },
     "execution_count": 633,
     "metadata": {},
     "output_type": "execute_result"
    }
   ],
   "source": [
    "dataset['BrandType'].value_counts()[:10]"
   ]
  },
  {
   "cell_type": "code",
   "execution_count": 634,
   "id": "6b5d855c",
   "metadata": {},
   "outputs": [
    {
     "data": {
      "text/plain": [
       "Index(['MotorState', 'ChassisState', 'Insurance', 'Gearbox', 'Price', 'Usage',\n",
       "       'Age', 'BrandType', 'FuelType_diesel', 'FuelType_dual_company',\n",
       "       'FuelType_dual_manual', 'FuelType_gasoline'],\n",
       "      dtype='object')"
      ]
     },
     "execution_count": 634,
     "metadata": {},
     "output_type": "execute_result"
    }
   ],
   "source": [
    "dataset.columns"
   ]
  },
  {
   "cell_type": "code",
   "execution_count": 635,
   "id": "d931d3c0",
   "metadata": {},
   "outputs": [
    {
     "data": {
      "text/plain": [
       "((106428, 12), (5913, 12), (5913, 12))"
      ]
     },
     "execution_count": 635,
     "metadata": {},
     "output_type": "execute_result"
    }
   ],
   "source": [
    "split = StratifiedShuffleSplit(n_splits=1, test_size=0.1, random_state=42)\n",
    "\n",
    "for train_index, test_val_index in split.split(dataset, dataset[\"Gearbox\"]):\n",
    "    test_val_set   = dataset.loc[test_val_index]\n",
    "    train_set      = dataset.loc[train_index]\n",
    "\n",
    "test_val_set.reset_index(drop=True, inplace=True)\n",
    "# Now, split the train_val_set into train and validation sets\n",
    "split_test = StratifiedShuffleSplit(n_splits=1, test_size=0.5, random_state=42)  # 50% validation, 50% train\n",
    "\n",
    "for test_index, val_index in split_test.split(test_val_set, test_val_set[\"Gearbox\"]):\n",
    "    test_set  = test_val_set.loc[test_index]\n",
    "    val_set   = test_val_set.loc[val_index]\n",
    "    \n",
    "train_set.shape, test_set.shape, val_set.shape"
   ]
  },
  {
   "cell_type": "code",
   "execution_count": 636,
   "id": "34afed0a",
   "metadata": {},
   "outputs": [],
   "source": [
    "dtype = torch.float\n",
    "\n",
    "Ytr   = torch.tensor(train_set[\"Price\"].values, dtype = dtype)\n",
    "Yval  = torch.tensor(val_set[\"Price\"].values, dtype = dtype)\n",
    "Ytest = torch.tensor(test_set[\"Price\"].values, dtype = dtype)\n",
    "\n",
    "train_set = train_set.drop([\"Price\"], axis=1)\n",
    "val_set   = val_set.drop([\"Price\"], axis=1)\n",
    "test_set  = test_set.drop([\"Price\"], axis=1)\n",
    "\n",
    "Xtr   = torch.tensor(train_set.values, dtype = dtype)\n",
    "Xval  = torch.tensor(val_set.values,   dtype = dtype)\n",
    "Xtest = torch.tensor(test_set.values,  dtype = dtype)"
   ]
  },
  {
   "cell_type": "code",
   "execution_count": 637,
   "id": "ee43b519",
   "metadata": {},
   "outputs": [],
   "source": [
    "torch.manual_seed(42)\n",
    "random.seed(42)"
   ]
  },
  {
   "cell_type": "code",
   "execution_count": 638,
   "id": "3456f084",
   "metadata": {},
   "outputs": [],
   "source": [
    "Ytr_scale = \\\n",
    "scaler.fit_transform(Ytr.reshape(-1, 1))\n",
    "Ytr_scale = torch.tensor(Ytr_scale,  dtype = dtype)\n",
    "\n",
    "Yval_scale = \\\n",
    "scaler.fit_transform(Yval.reshape(-1, 1))\n",
    "Yval_scale = torch.tensor(Yval_scale,  dtype = dtype)\n",
    "\n",
    "Ytest_scale = \\\n",
    "scaler.fit_transform(Ytest.reshape(-1, 1))\n",
    "Ytest_scale = torch.tensor(Ytest_scale,  dtype = dtype)"
   ]
  },
  {
   "cell_type": "code",
   "execution_count": 639,
   "id": "1cf8ad4b",
   "metadata": {},
   "outputs": [
    {
     "data": {
      "text/plain": [
       "(torch.Size([106428, 11]), torch.Size([106428, 1]))"
      ]
     },
     "execution_count": 639,
     "metadata": {},
     "output_type": "execute_result"
    }
   ],
   "source": [
    "Xtr.shape, Ytr_scale.shape"
   ]
  },
  {
   "cell_type": "code",
   "execution_count": 640,
   "id": "a83c8670",
   "metadata": {},
   "outputs": [],
   "source": [
    "inp = Xtr.shape[1] - 1\n",
    "out = 1\n",
    "hid = 100\n",
    "\n",
    "loss_fn = torch.nn.MSELoss()\n",
    "learning_rate = 0.00001"
   ]
  },
  {
   "cell_type": "code",
   "execution_count": 641,
   "id": "d2e5baab",
   "metadata": {},
   "outputs": [
    {
     "data": {
      "text/plain": [
       "11"
      ]
     },
     "execution_count": 641,
     "metadata": {},
     "output_type": "execute_result"
    }
   ],
   "source": [
    "Xtr.shape[1]"
   ]
  },
  {
   "cell_type": "code",
   "execution_count": 642,
   "id": "676b59c6",
   "metadata": {},
   "outputs": [],
   "source": [
    "embedding_brand_dim = 10\n",
    "\n",
    "NN = nn.Sequential(\n",
    "    nn.Linear(inp + embedding_brand_dim, hid),\n",
    "    nn.BatchNorm1d(hid),\n",
    "    nn.Sigmoid(),\n",
    "    \n",
    "    nn.Linear(hid, hid),\n",
    "    nn.BatchNorm1d(hid),\n",
    "    nn.Sigmoid(),\n",
    "    \n",
    "    nn.Linear(hid, hid),\n",
    "    nn.BatchNorm1d(hid),\n",
    "    nn.Sigmoid(),\n",
    "    \n",
    "    nn.Linear(hid, hid),\n",
    "    nn.BatchNorm1d(hid),\n",
    "    nn.Sigmoid(),\n",
    "    \n",
    "    nn.Linear(hid, out)\n",
    ")"
   ]
  },
  {
   "cell_type": "code",
   "execution_count": 643,
   "id": "4ff80a0a",
   "metadata": {},
   "outputs": [],
   "source": [
    "num_brands = dataset['BrandType'].nunique()\n",
    "brand_type_embedding = nn.Embedding(num_brands, embedding_brand_dim)\n",
    "\n",
    "class CustomModel(nn.Module):\n",
    "    def __init__(self, brand_embedding, model, brand_type_col_index):\n",
    "        super(CustomModel, self).__init__()\n",
    "        self.brand_embedding = brand_embedding\n",
    "        self.model = model\n",
    "        self.brand_type_col_index = brand_type_col_index\n",
    "        \n",
    "    def forward(self, x):\n",
    "        if x.ndim == 1:\n",
    "            brand_type = x[brand_type_col_index].long()\n",
    "            x = np.delete(x, brand_type_col_index)\n",
    "        else:\n",
    "            brand_type = x[:, brand_type_col_index].long()\n",
    "            x_b = x[:, :self.brand_type_col_index]\n",
    "            x = torch.cat([x_b, x[:, self.brand_type_col_index + 1:]], dim=1)\n",
    "        \n",
    "        brand_embedded = self.brand_embedding(brand_type)\n",
    "        \n",
    "        if x.ndim == 1:\n",
    "            x = torch.tensor(x, dtype=torch.float32).unsqueeze(0)\n",
    "            x = torch.cat([x, brand_embedded.unsqueeze(0)], dim=1)\n",
    "        else:\n",
    "            x = torch.cat([x, brand_embedded], dim=1)\n",
    "            \n",
    "        predicted = self.model(x)\n",
    "        return predicted\n",
    "\n",
    "brand_type_col_index = dataset.columns.get_loc('BrandType') - 1\n",
    "model = CustomModel(brand_type_embedding, NN, brand_type_col_index)"
   ]
  },
  {
   "cell_type": "code",
   "execution_count": 644,
   "id": "f2abd7eb",
   "metadata": {},
   "outputs": [
    {
     "name": "stdout",
     "output_type": "stream",
     "text": [
      "0 0.14316223561763763\n",
      "10000 0.00969753134995699\n",
      "20000 0.010707885026931763\n",
      "30000 0.004526067059487104\n",
      "40000 0.008092831820249557\n",
      "50000 0.01188572496175766\n",
      "60000 0.024108918383717537\n",
      "70000 0.0024993703700602055\n",
      "80000 0.006313767749816179\n",
      "90000 0.001996759558096528\n",
      "100000 0.004594485275447369\n",
      "110000 0.004431284032762051\n",
      "120000 0.0028875654097646475\n",
      "130000 0.007297467906028032\n",
      "140000 0.004081323742866516\n",
      "150000 0.003191809169948101\n",
      "160000 0.0026926894206553698\n",
      "170000 0.0022608954459428787\n",
      "180000 0.0046745408326387405\n",
      "190000 0.003504425287246704\n"
     ]
    }
   ],
   "source": [
    "batch_size = 64\n",
    "losses = []\n",
    "\n",
    "for iter in range(200000):\n",
    "    \n",
    "    ix = torch.randint(0, Xtr.shape[0], (batch_size,))\n",
    "    Xb, Yb = Xtr[ix], Ytr_scale[ix] # batch X,Y\n",
    "\n",
    "    y_pred = model(Xb)\n",
    "    loss = loss_fn(y_pred, Yb.view(-1, 1))\n",
    "\n",
    "    if iter % 10000 == 0:\n",
    "        print(iter, loss.item())\n",
    "#         learning_rate = learning_rate /  10\n",
    "\n",
    "    losses.append(loss.log10().item())\n",
    "#     if iter % 50000 and iter != 0:\n",
    "#         learning_rate = learning_rate /  10\n",
    "    \n",
    "    model.zero_grad()\n",
    "    loss.backward()\n",
    "    \n",
    "    with torch.no_grad():\n",
    "        for param in model.parameters():\n",
    "            param -= learning_rate * param.grad"
   ]
  },
  {
   "cell_type": "code",
   "execution_count": 645,
   "id": "5759b8a1",
   "metadata": {},
   "outputs": [
    {
     "data": {
      "image/png": "[encoded data removed]",
      "text/plain": [
       "<Figure size 640x480 with 1 Axes>"
      ]
     },
     "metadata": {},
     "output_type": "display_data"
    }
   ],
   "source": [
    "plt.plot(torch.tensor(losses).view(-1, 1000).mean(1))\n",
    "plt.xlabel('Epoch')\n",
    "plt.ylabel('Loss')\n",
    "plt.title('Training Loss')\n",
    "plt.show()"
   ]
  },
  {
   "cell_type": "code",
   "execution_count": 646,
   "id": "945834cf",
   "metadata": {},
   "outputs": [
    {
     "data": {
      "text/plain": [
       "<torch.autograd.grad_mode.no_grad at 0x2325748eb90>"
      ]
     },
     "execution_count": 646,
     "metadata": {},
     "output_type": "execute_result"
    }
   ],
   "source": [
    "model.eval()\n",
    "torch.no_grad() "
   ]
  },
  {
   "cell_type": "code",
   "execution_count": 647,
   "id": "507e6d05",
   "metadata": {},
   "outputs": [
    {
     "name": "stdout",
     "output_type": "stream",
     "text": [
      "0 0.00072937534423545\n",
      "10000 0.0017925224965438247\n",
      "20000 0.002014974830672145\n",
      "30000 0.0008071038173511624\n",
      "40000 0.0007986074779182673\n",
      "50000 0.001780722290277481\n",
      "60000 0.0007465389790013433\n",
      "70000 0.0008893876802176237\n",
      "80000 0.0037856874987483025\n",
      "90000 0.0006346766604110599\n"
     ]
    }
   ],
   "source": [
    "batch_size = 64\n",
    "\n",
    "for iter in range(100000):\n",
    "    ix = torch.randint(0, Xval.shape[0], (batch_size,))\n",
    "    Xb, Yb = Xval[ix], Yval_scale[ix]  # batch X,Y\n",
    "\n",
    "    y_pred = model(Xb)\n",
    "    loss = loss_fn(y_pred, Yb.view(-1, 1))\n",
    "\n",
    "    if iter % 10000 == 0:\n",
    "        print(iter, loss.item())"
   ]
  },
  {
   "cell_type": "code",
   "execution_count": 648,
   "id": "42fd4177",
   "metadata": {},
   "outputs": [
    {
     "name": "stdout",
     "output_type": "stream",
     "text": [
      "R2 Score:  0.06133216262472885\n"
     ]
    }
   ],
   "source": [
    "y_pred_r2 = model(Xval)\n",
    "r2 = r2_score(Yval_scale, y_pred_r2.detach().numpy().reshape(-1, 1))\n",
    "print(\"R2 Score: \", r2)"
   ]
  },
  {
   "cell_type": "code",
   "execution_count": 552,
   "id": "32eaebfe",
   "metadata": {},
   "outputs": [
    {
     "name": "stdout",
     "output_type": "stream",
     "text": [
      "tensor([[0.0000, 0.0000, 0.0833, 0.0000, 0.3000, 0.1944, 0.0000, 0.0000, 0.0000,\n",
      "         1.0000]]) tensor([[ 0.7583, -2.8873, -0.6902, -0.6523,  0.3949,  0.4717, -0.8254,  0.9967,\n",
      "          0.7904, -0.4139]])\n",
      "tensor([[-0.2515]])\n"
     ]
    },
    {
     "name": "stderr",
     "output_type": "stream",
     "text": [
      "C:\\Users\\mosta\\AppData\\Local\\Temp\\ipykernel_8972\\659157625.py:23: UserWarning: To copy construct from a tensor, it is recommended to use sourceTensor.clone().detach() or sourceTensor.clone().detach().requires_grad_(True), rather than torch.tensor(sourceTensor).\n",
      "  x = torch.tensor(x, dtype=torch.float32).unsqueeze(0)\n"
     ]
    }
   ],
   "source": [
    "with torch.no_grad():\n",
    "    model.eval()\n",
    "    output = model(Xtr[2])\n",
    "    print(output)"
   ]
  },
  {
   "cell_type": "code",
   "execution_count": null,
   "id": "cb0a39ed",
   "metadata": {},
   "outputs": [],
   "source": [
    "sample_test_index = 32\n",
    "sample_row = Xtest[sample_test_index]  # No need for unsqueeze(0) here\n",
    "\n",
    "brand_type = sample_row[brand_type_col_index]\n",
    "brand_type = torch.tensor(brand_type, dtype=torch.long).unsqueeze(0)\n",
    "\n",
    "print(sample_row, brand_type)\n",
    "\n",
    "# Forward pass through the model\n",
    "y_pred = model(sample_row, brand_type)\n",
    "\n",
    "predicted_price = scaler.inverse_transform(np.array([y_pred.item()]).reshape(-1, 1)).item()\n",
    "inverted_price  = scaler.inverse_transform(np.array(Ytest_scale[sample_test_index].item()).reshape(-1, 1))\n",
    "actual_price    = Ytest[sample_test_index].item()\n",
    "\n",
    "print(\"Predicted price of automobile is : \", predicted_price)\n",
    "print(\"Actual price of automobile is : \", int(inverted_price))\n",
    "print(\"Actual price of automobile is : \", int(actual_price))\n",
    "\n",
    "# Compute the percentage error\n",
    "percentage_error = abs(actual_price - predicted_price) / actual_price * 100\n",
    "\n",
    "# Calculate the accuracy\n",
    "accuracy = 100 - percentage_error\n",
    "print(\"Accuracy:\", accuracy)\n",
    "\n",
    "brand_index = test_set.iloc[34]['BrandType']\n",
    "brand_name = index_to_brand[brand_index]\n",
    "print(brand_name)"
   ]
  },
  {
   "cell_type": "code",
   "execution_count": null,
   "id": "e35c08ca",
   "metadata": {},
   "outputs": [],
   "source": []
  }
 ],
 "metadata": {
  "kernelspec": {
   "display_name": "Python 3 (ipykernel)",
   "language": "python",
   "name": "python3"
  },
  "language_info": {
   "codemirror_mode": {
    "name": "ipython",
    "version": 3
   },
   "file_extension": ".py",
   "mimetype": "text/x-python",
   "name": "python",
   "nbconvert_exporter": "python",
   "pygments_lexer": "ipython3",
   "version": "3.11.5"
  }
 },
 "nbformat": 4,
 "nbformat_minor": 5
}
