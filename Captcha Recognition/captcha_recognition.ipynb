{
 "cells": [
  {
   "cell_type": "code",
   "execution_count": 1,
   "id": "4193d40c-0837-43d5-b31d-a45d69daec0a",
   "metadata": {},
   "outputs": [],
   "source": [
    "import numpy as np\n",
    "from matplotlib import pyplot as plt\n",
    "from tqdm import tqdm"
   ]
  },
  {
   "cell_type": "code",
   "execution_count": 2,
   "id": "53050c4a-4756-4c5c-a69e-e7edb4901ec0",
   "metadata": {},
   "outputs": [],
   "source": [
    "with open(\"d1_labels.txt\", \"r\") as f:\n",
    "    lines = f.readlines()"
   ]
  },
  {
   "cell_type": "code",
   "execution_count": 3,
   "id": "daf22fa4-fbf4-4f8f-8ada-3314c9e8cf3d",
   "metadata": {},
   "outputs": [],
   "source": [
    "y_raw = np.array(lines, dtype=np.int32)"
   ]
  },
  {
   "cell_type": "code",
   "execution_count": 4,
   "id": "663845ca-dd99-4f25-94fe-16216034e67b",
   "metadata": {},
   "outputs": [
    {
     "name": "stderr",
     "output_type": "stream",
     "text": [
      "100%|███████████████████████████████████████████████████████████████████████████████████████████████████████████████████████████████████████████████████████████████████| 3000/3000 [00:01<00:00, 1617.00it/s]\n"
     ]
    }
   ],
   "source": [
    "n = y_raw.shape[0]\n",
    "x = np.zeros((n, 25, 80, 3), dtype=np.float32)\n",
    "for i in tqdm(range(n)):\n",
    "    x[i, :, :, :] = plt.imread(\"Dataset1/\" + str(i + 1) + \".jpg\")"
   ]
  },
  {
   "cell_type": "code",
   "execution_count": 5,
   "id": "dcba2220-f979-480e-b184-d145b85dc4dd",
   "metadata": {},
   "outputs": [],
   "source": [
    "yd1 = np.array(y_raw / 1000, dtype=np.int32)\n",
    "yd2 = np.array((y_raw - yd1 * 1000) / 100, dtype=np.int32)\n",
    "yd3 = np.array((y_raw - yd1 * 1000 - yd2 * 100) / 10, dtype=np.int32)\n",
    "yd4 = np.array((y_raw - yd1 * 1000 - yd2 * 100 - yd3 * 10), dtype=np.int32)\n",
    "y = np.vstack([yd1, yd2, yd3, yd4]).T # the first digit is between 1 and 9, we transform it to 0 to 8 for tensorflow's convinience. TODO: transform the model output in the end."
   ]
  },
  {
   "cell_type": "code",
   "execution_count": 6,
   "id": "77bef789-7aab-4248-aba7-179a5055ff17",
   "metadata": {},
   "outputs": [
    {
     "name": "stdout",
     "output_type": "stream",
     "text": [
      "[8 4 4 5]\n"
     ]
    },
    {
     "data": {
      "image/png": "[encoded data removed]",
      "text/plain": [
       "<Figure size 640x480 with 1 Axes>"
      ]
     },
     "metadata": {},
     "output_type": "display_data"
    }
   ],
   "source": [
    "idx = np.random.randint(0, n)\n",
    "plt.imshow(np.array(x[idx], dtype=np.int32))\n",
    "print(y[idx])"
   ]
  },
  {
   "cell_type": "code",
   "execution_count": 7,
   "id": "8fc24be0-a812-4db3-9e92-c7a8b2670108",
   "metadata": {},
   "outputs": [],
   "source": [
    "import tensorflow as tf"
   ]
  },
  {
   "cell_type": "code",
   "execution_count": 8,
   "id": "90643075-ac28-4790-b9b9-bd82e0fde8f4",
   "metadata": {},
   "outputs": [],
   "source": [
    "x_l = tf.keras.layers.Input((25, 80, 3), dtype=tf.float32, name=\"x_input\")\n",
    "lc1 = tf.keras.layers.Conv2D(4, (3, 3), activation=tf.nn.leaky_relu) # 23, 78\n",
    "lc2 = tf.keras.layers.Conv2D(4, (3, 3), activation=tf.nn.leaky_relu) # 21, 76\n",
    "lc3 = tf.keras.layers.Conv2D(4, (3, 3), activation=tf.nn.leaky_relu) # 19, 74\n",
    "lc4 = tf.keras.layers.Conv2D(4, (3, 3), activation=tf.nn.leaky_relu) # 17, 72\n",
    "lc4 = tf.keras.layers.Conv2D(8, (3, 3), activation=tf.nn.leaky_relu) # 15, 70\n",
    "lp1 = tf.keras.layers.MaxPooling2D(pool_size=(3, 3)) # 5, 24\n",
    "lc5 = tf.keras.layers.Conv2D(8, (3, 3), activation=tf.nn.leaky_relu) # 3, 22\n",
    "lc6 = tf.keras.layers.Conv2D(4, (3, 3), activation=tf.nn.leaky_relu) # 1, 20, (4)\n",
    "lc1_7 = tf.keras.layers.Conv2D(4, (1, 1), activation=tf.nn.leaky_relu) # 1, 20, (4)\n",
    "# Transpose: None, 1, 4, 20\n",
    "lc1_8 = tf.keras.layers.Conv2D(10, (1, 1), activation=tf.nn.leaky_relu) # 1, 4, (10)\n",
    "lc1_9 = tf.keras.layers.Conv2D(10, (1, 1), activation=tf.nn.leaky_relu) # 1, 4, (10)\n",
    "lc1_10 = tf.keras.layers.Conv2D(20, (1, 1), activation=tf.nn.leaky_relu) # 1, 4, (20)\n",
    "# Transpose: None, 1, 20, 4\n",
    "c6_out = lc6(lc5(lp1(lc4(lc3(lc2(lc1(x_l))))))) # 1, 20, 4\n",
    "A = tf.transpose(lc1_10(lc1_9(lc1_8(tf.transpose(lc1_7(c6_out), perm=[0, 1, 3, 2])))), perm=[0, 1, 3, 2])\n",
    "A1 = tf.nn.softmax(A[:, :, :, 0:1], axis=2) # None, 1, 20, 1\n",
    "A2 = tf.nn.softmax(A[:, :, :, 1:2], axis=2) # None, 1, 20, 1\n",
    "A3 = tf.nn.softmax(A[:, :, :, 2:3], axis=2) # None, 1, 20, 1\n",
    "A4 = tf.nn.softmax(A[:, :, :, 3:4], axis=2) # None, 1, 20, 1\n",
    "Z1 = tf.multiply(A1, c6_out) # None, 1, 20, 4\n",
    "Z2 = tf.multiply(A2, c6_out) # None, 1, 20, 4\n",
    "Z3 = tf.multiply(A3, c6_out) # None, 1, 20, 4\n",
    "Z4 = tf.multiply(A4, c6_out) # None, 1, 20, 4\n",
    "GAP = tf.keras.layers.GlobalAveragePooling2D()\n",
    "ld = tf.keras.layers.Dense(9, activation=tf.keras.activations.softmax) # 10\n",
    "y1 = ld(GAP(Z1))\n",
    "y2 = ld(GAP(Z2))\n",
    "y3 = ld(GAP(Z3))\n",
    "y4 = ld(GAP(Z4))\n",
    "mdl = tf.keras.models.Model([x_l], {\"y1\": y1, \"y2\": y2, \"y3\": y3, \"y4\": y4})"
   ]
  },
  {
   "cell_type": "code",
   "execution_count": 9,
   "id": "4e8a6b7e-037e-4121-a6a8-97012a31eed9",
   "metadata": {},
   "outputs": [
    {
     "name": "stdout",
     "output_type": "stream",
     "text": [
      "Model: \"model\"\n",
      "__________________________________________________________________________________________________\n",
      " Layer (type)                   Output Shape         Param #     Connected to                     \n",
      "==================================================================================================\n",
      " x_input (InputLayer)           [(None, 25, 80, 3)]  0           []                               \n",
      "                                                                                                  \n",
      " conv2d (Conv2D)                (None, 23, 78, 4)    112         ['x_input[0][0]']                \n",
      "                                                                                                  \n",
      " conv2d_1 (Conv2D)              (None, 21, 76, 4)    148         ['conv2d[0][0]']                 \n",
      "                                                                                                  \n",
      " conv2d_2 (Conv2D)              (None, 19, 74, 4)    148         ['conv2d_1[0][0]']               \n",
      "                                                                                                  \n",
      " conv2d_4 (Conv2D)              (None, 17, 72, 8)    296         ['conv2d_2[0][0]']               \n",
      "                                                                                                  \n",
      " max_pooling2d (MaxPooling2D)   (None, 5, 24, 8)     0           ['conv2d_4[0][0]']               \n",
      "                                                                                                  \n",
      " conv2d_5 (Conv2D)              (None, 3, 22, 8)     584         ['max_pooling2d[0][0]']          \n",
      "                                                                                                  \n",
      " conv2d_6 (Conv2D)              (None, 1, 20, 4)     292         ['conv2d_5[0][0]']               \n",
      "                                                                                                  \n",
      " conv2d_7 (Conv2D)              (None, 1, 20, 4)     20          ['conv2d_6[0][0]']               \n",
      "                                                                                                  \n",
      " tf.compat.v1.transpose (TFOpLa  (None, 1, 4, 20)    0           ['conv2d_7[0][0]']               \n",
      " mbda)                                                                                            \n",
      "                                                                                                  \n",
      " conv2d_8 (Conv2D)              (None, 1, 4, 10)     210         ['tf.compat.v1.transpose[0][0]'] \n",
      "                                                                                                  \n",
      " conv2d_9 (Conv2D)              (None, 1, 4, 10)     110         ['conv2d_8[0][0]']               \n",
      "                                                                                                  \n",
      " conv2d_10 (Conv2D)             (None, 1, 4, 20)     220         ['conv2d_9[0][0]']               \n",
      "                                                                                                  \n",
      " tf.compat.v1.transpose_1 (TFOp  (None, 1, 20, 4)    0           ['conv2d_10[0][0]']              \n",
      " Lambda)                                                                                          \n",
      "                                                                                                  \n",
      " tf.__operators__.getitem (Slic  (None, 1, 20, 1)    0           ['tf.compat.v1.transpose_1[0][0]'\n",
      " ingOpLambda)                                                    ]                                \n",
      "                                                                                                  \n",
      " tf.__operators__.getitem_1 (Sl  (None, 1, 20, 1)    0           ['tf.compat.v1.transpose_1[0][0]'\n",
      " icingOpLambda)                                                  ]                                \n",
      "                                                                                                  \n",
      " tf.__operators__.getitem_2 (Sl  (None, 1, 20, 1)    0           ['tf.compat.v1.transpose_1[0][0]'\n",
      " icingOpLambda)                                                  ]                                \n",
      "                                                                                                  \n",
      " tf.__operators__.getitem_3 (Sl  (None, 1, 20, 1)    0           ['tf.compat.v1.transpose_1[0][0]'\n",
      " icingOpLambda)                                                  ]                                \n",
      "                                                                                                  \n",
      " tf.nn.softmax (TFOpLambda)     (None, 1, 20, 1)     0           ['tf.__operators__.getitem[0][0]'\n",
      "                                                                 ]                                \n",
      "                                                                                                  \n",
      " tf.nn.softmax_1 (TFOpLambda)   (None, 1, 20, 1)     0           ['tf.__operators__.getitem_1[0][0\n",
      "                                                                 ]']                              \n",
      "                                                                                                  \n",
      " tf.nn.softmax_2 (TFOpLambda)   (None, 1, 20, 1)     0           ['tf.__operators__.getitem_2[0][0\n",
      "                                                                 ]']                              \n",
      "                                                                                                  \n",
      " tf.nn.softmax_3 (TFOpLambda)   (None, 1, 20, 1)     0           ['tf.__operators__.getitem_3[0][0\n",
      "                                                                 ]']                              \n",
      "                                                                                                  \n",
      " tf.math.multiply (TFOpLambda)  (None, 1, 20, 4)     0           ['tf.nn.softmax[0][0]',          \n",
      "                                                                  'conv2d_6[0][0]']               \n",
      "                                                                                                  \n",
      " tf.math.multiply_1 (TFOpLambda  (None, 1, 20, 4)    0           ['tf.nn.softmax_1[0][0]',        \n",
      " )                                                                'conv2d_6[0][0]']               \n",
      "                                                                                                  \n",
      " tf.math.multiply_2 (TFOpLambda  (None, 1, 20, 4)    0           ['tf.nn.softmax_2[0][0]',        \n",
      " )                                                                'conv2d_6[0][0]']               \n",
      "                                                                                                  \n",
      " tf.math.multiply_3 (TFOpLambda  (None, 1, 20, 4)    0           ['tf.nn.softmax_3[0][0]',        \n",
      " )                                                                'conv2d_6[0][0]']               \n",
      "                                                                                                  \n",
      " global_average_pooling2d (Glob  (None, 4)           0           ['tf.math.multiply[0][0]',       \n",
      " alAveragePooling2D)                                              'tf.math.multiply_1[0][0]',     \n",
      "                                                                  'tf.math.multiply_2[0][0]',     \n",
      "                                                                  'tf.math.multiply_3[0][0]']     \n",
      "                                                                                                  \n",
      " dense (Dense)                  (None, 9)            45          ['global_average_pooling2d[0][0]'\n",
      "                                                                 , 'global_average_pooling2d[1][0]\n",
      "                                                                 ',                               \n",
      "                                                                  'global_average_pooling2d[2][0]'\n",
      "                                                                 , 'global_average_pooling2d[3][0]\n",
      "                                                                 ']                               \n",
      "                                                                                                  \n",
      "==================================================================================================\n",
      "Total params: 2,185\n",
      "Trainable params: 2,185\n",
      "Non-trainable params: 0\n",
      "__________________________________________________________________________________________________\n"
     ]
    }
   ],
   "source": [
    "mdl.summary()"
   ]
  },
  {
   "cell_type": "code",
   "execution_count": 10,
   "id": "f84ab43f-5a28-4b07-9743-fa3c37d608d0",
   "metadata": {},
   "outputs": [],
   "source": [
    "mdl.compile(\n",
    "    optimizer=tf.keras.optimizers.Adam(),\n",
    "    loss={\"y1\": \"sparse_categorical_crossentropy\", \"y2\": \"sparse_categorical_crossentropy\", \"y3\": \"sparse_categorical_crossentropy\", \"y4\": \"sparse_categorical_crossentropy\"},\n",
    "    metrics={\"y1\": \"sparse_categorical_accuracy\", \"y2\": \"sparse_categorical_accuracy\", \"y3\": \"sparse_categorical_accuracy\", \"y4\": \"sparse_categorical_accuracy\"}\n",
    ")"
   ]
  },
  {
   "cell_type": "code",
   "execution_count": 11,
   "id": "475e51c2-1086-4dfb-ad6a-8c78763ff393",
   "metadata": {},
   "outputs": [],
   "source": [
    "val_split = 2500"
   ]
  },
  {
   "cell_type": "code",
   "execution_count": 12,
   "id": "76927e74-9889-4e70-ba04-126ba1c493c1",
   "metadata": {
    "scrolled": true
   },
   "outputs": [
    {
     "name": "stdout",
     "output_type": "stream",
     "text": [
      "Epoch 1/100\n",
      "250/250 [==============================] - 73s 283ms/step - loss: 8.7925 - dense_loss: 2.1851 - dense_1_loss: 2.2000 - dense_2_loss: 2.2037 - dense_3_loss: 2.2038 - dense_sparse_categorical_accuracy: 0.1300 - dense_1_sparse_categorical_accuracy: 0.1148 - dense_2_sparse_categorical_accuracy: 0.1032 - dense_3_sparse_categorical_accuracy: 0.1028 - val_loss: 8.7688 - val_dense_loss: 2.1742 - val_dense_1_loss: 2.1966 - val_dense_2_loss: 2.1959 - val_dense_3_loss: 2.2021 - val_dense_sparse_categorical_accuracy: 0.1860 - val_dense_1_sparse_categorical_accuracy: 0.1260 - val_dense_2_sparse_categorical_accuracy: 0.1260 - val_dense_3_sparse_categorical_accuracy: 0.0840\n",
      "Epoch 2/100\n",
      "250/250 [==============================] - 71s 284ms/step - loss: 8.6040 - dense_loss: 1.9703 - dense_1_loss: 2.1886 - dense_2_loss: 2.2001 - dense_3_loss: 2.2450 - dense_sparse_categorical_accuracy: 0.2888 - dense_1_sparse_categorical_accuracy: 0.1388 - dense_2_sparse_categorical_accuracy: 0.1216 - dense_3_sparse_categorical_accuracy: 0.1164 - val_loss: 8.4200 - val_dense_loss: 1.7135 - val_dense_1_loss: 2.1581 - val_dense_2_loss: 2.1929 - val_dense_3_loss: 2.3555 - val_dense_sparse_categorical_accuracy: 0.3840 - val_dense_1_sparse_categorical_accuracy: 0.1580 - val_dense_2_sparse_categorical_accuracy: 0.1000 - val_dense_3_sparse_categorical_accuracy: 0.1180\n",
      "Epoch 3/100\n",
      "250/250 [==============================] - 72s 287ms/step - loss: 7.8300 - dense_loss: 1.4695 - dense_1_loss: 2.0535 - dense_2_loss: 2.1515 - dense_3_loss: 2.1554 - dense_sparse_categorical_accuracy: 0.4924 - dense_1_sparse_categorical_accuracy: 0.2288 - dense_2_sparse_categorical_accuracy: 0.1744 - dense_3_sparse_categorical_accuracy: 0.2128 - val_loss: 6.8823 - val_dense_loss: 1.1897 - val_dense_1_loss: 1.8584 - val_dense_2_loss: 1.9494 - val_dense_3_loss: 1.8847 - val_dense_sparse_categorical_accuracy: 0.6240 - val_dense_1_sparse_categorical_accuracy: 0.2780 - val_dense_2_sparse_categorical_accuracy: 0.2700 - val_dense_3_sparse_categorical_accuracy: 0.2960\n",
      "Epoch 4/100\n",
      "250/250 [==============================] - 69s 276ms/step - loss: 6.0337 - dense_loss: 0.9262 - dense_1_loss: 1.6462 - dense_2_loss: 1.7562 - dense_3_loss: 1.7051 - dense_sparse_categorical_accuracy: 0.7256 - dense_1_sparse_categorical_accuracy: 0.4020 - dense_2_sparse_categorical_accuracy: 0.3560 - dense_3_sparse_categorical_accuracy: 0.3980 - val_loss: 5.7257 - val_dense_loss: 1.0579 - val_dense_1_loss: 1.5017 - val_dense_2_loss: 1.6278 - val_dense_3_loss: 1.5382 - val_dense_sparse_categorical_accuracy: 0.6620 - val_dense_1_sparse_categorical_accuracy: 0.4200 - val_dense_2_sparse_categorical_accuracy: 0.3940 - val_dense_3_sparse_categorical_accuracy: 0.3920\n",
      "Epoch 5/100\n",
      "250/250 [==============================] - 68s 271ms/step - loss: 4.8516 - dense_loss: 0.6871 - dense_1_loss: 1.2954 - dense_2_loss: 1.4724 - dense_3_loss: 1.3967 - dense_sparse_categorical_accuracy: 0.7816 - dense_1_sparse_categorical_accuracy: 0.5152 - dense_2_sparse_categorical_accuracy: 0.4544 - dense_3_sparse_categorical_accuracy: 0.4712 - val_loss: 4.4197 - val_dense_loss: 0.6098 - val_dense_1_loss: 1.1934 - val_dense_2_loss: 1.3800 - val_dense_3_loss: 1.2366 - val_dense_sparse_categorical_accuracy: 0.8220 - val_dense_1_sparse_categorical_accuracy: 0.5560 - val_dense_2_sparse_categorical_accuracy: 0.4600 - val_dense_3_sparse_categorical_accuracy: 0.4900\n",
      "Epoch 6/100\n",
      "250/250 [==============================] - 68s 274ms/step - loss: 3.9895 - dense_loss: 0.5074 - dense_1_loss: 1.0473 - dense_2_loss: 1.2823 - dense_3_loss: 1.1525 - dense_sparse_categorical_accuracy: 0.8344 - dense_1_sparse_categorical_accuracy: 0.6036 - dense_2_sparse_categorical_accuracy: 0.5256 - dense_3_sparse_categorical_accuracy: 0.5612 - val_loss: 3.7918 - val_dense_loss: 0.5088 - val_dense_1_loss: 0.9824 - val_dense_2_loss: 1.1977 - val_dense_3_loss: 1.1029 - val_dense_sparse_categorical_accuracy: 0.8460 - val_dense_1_sparse_categorical_accuracy: 0.6360 - val_dense_2_sparse_categorical_accuracy: 0.5660 - val_dense_3_sparse_categorical_accuracy: 0.5540\n",
      "Epoch 7/100\n",
      "250/250 [==============================] - 70s 279ms/step - loss: 3.7737 - dense_loss: 0.4873 - dense_1_loss: 0.9688 - dense_2_loss: 1.2268 - dense_3_loss: 1.0908 - dense_sparse_categorical_accuracy: 0.8488 - dense_1_sparse_categorical_accuracy: 0.6432 - dense_2_sparse_categorical_accuracy: 0.5600 - dense_3_sparse_categorical_accuracy: 0.5752 - val_loss: 3.4018 - val_dense_loss: 0.4170 - val_dense_1_loss: 0.9153 - val_dense_2_loss: 1.1342 - val_dense_3_loss: 0.9353 - val_dense_sparse_categorical_accuracy: 0.8940 - val_dense_1_sparse_categorical_accuracy: 0.6700 - val_dense_2_sparse_categorical_accuracy: 0.5720 - val_dense_3_sparse_categorical_accuracy: 0.6260\n",
      "Epoch 8/100\n",
      "250/250 [==============================] - 70s 279ms/step - loss: 3.1023 - dense_loss: 0.3450 - dense_1_loss: 0.7800 - dense_2_loss: 1.0704 - dense_3_loss: 0.9069 - dense_sparse_categorical_accuracy: 0.9056 - dense_1_sparse_categorical_accuracy: 0.7152 - dense_2_sparse_categorical_accuracy: 0.6180 - dense_3_sparse_categorical_accuracy: 0.6480 - val_loss: 3.0056 - val_dense_loss: 0.3301 - val_dense_1_loss: 0.8371 - val_dense_2_loss: 1.0509 - val_dense_3_loss: 0.7874 - val_dense_sparse_categorical_accuracy: 0.9200 - val_dense_1_sparse_categorical_accuracy: 0.6900 - val_dense_2_sparse_categorical_accuracy: 0.6140 - val_dense_3_sparse_categorical_accuracy: 0.6780\n",
      "Epoch 9/100\n",
      "250/250 [==============================] - 69s 276ms/step - loss: 2.8436 - dense_loss: 0.3110 - dense_1_loss: 0.7008 - dense_2_loss: 1.0087 - dense_3_loss: 0.8232 - dense_sparse_categorical_accuracy: 0.9264 - dense_1_sparse_categorical_accuracy: 0.7444 - dense_2_sparse_categorical_accuracy: 0.6360 - dense_3_sparse_categorical_accuracy: 0.6760 - val_loss: 2.7310 - val_dense_loss: 0.2522 - val_dense_1_loss: 0.6979 - val_dense_2_loss: 1.0026 - val_dense_3_loss: 0.7783 - val_dense_sparse_categorical_accuracy: 0.9440 - val_dense_1_sparse_categorical_accuracy: 0.7440 - val_dense_2_sparse_categorical_accuracy: 0.6600 - val_dense_3_sparse_categorical_accuracy: 0.6680\n",
      "Epoch 10/100\n",
      "250/250 [==============================] - 70s 281ms/step - loss: 2.6734 - dense_loss: 0.3115 - dense_1_loss: 0.6256 - dense_2_loss: 0.9726 - dense_3_loss: 0.7636 - dense_sparse_categorical_accuracy: 0.9264 - dense_1_sparse_categorical_accuracy: 0.7644 - dense_2_sparse_categorical_accuracy: 0.6480 - dense_3_sparse_categorical_accuracy: 0.6920 - val_loss: 2.7613 - val_dense_loss: 0.3563 - val_dense_1_loss: 0.6815 - val_dense_2_loss: 0.9697 - val_dense_3_loss: 0.7539 - val_dense_sparse_categorical_accuracy: 0.9100 - val_dense_1_sparse_categorical_accuracy: 0.7540 - val_dense_2_sparse_categorical_accuracy: 0.6400 - val_dense_3_sparse_categorical_accuracy: 0.7120\n",
      "Epoch 11/100\n",
      "250/250 [==============================] - 69s 276ms/step - loss: 2.4806 - dense_loss: 0.2673 - dense_1_loss: 0.6060 - dense_2_loss: 0.9262 - dense_3_loss: 0.6811 - dense_sparse_categorical_accuracy: 0.9328 - dense_1_sparse_categorical_accuracy: 0.7688 - dense_2_sparse_categorical_accuracy: 0.6624 - dense_3_sparse_categorical_accuracy: 0.7176 - val_loss: 2.3643 - val_dense_loss: 0.1564 - val_dense_1_loss: 0.6367 - val_dense_2_loss: 0.9598 - val_dense_3_loss: 0.6114 - val_dense_sparse_categorical_accuracy: 0.9720 - val_dense_1_sparse_categorical_accuracy: 0.7600 - val_dense_2_sparse_categorical_accuracy: 0.6840 - val_dense_3_sparse_categorical_accuracy: 0.7640\n",
      "Epoch 12/100\n",
      "250/250 [==============================] - 68s 273ms/step - loss: 2.2225 - dense_loss: 0.1998 - dense_1_loss: 0.5502 - dense_2_loss: 0.8668 - dense_3_loss: 0.6057 - dense_sparse_categorical_accuracy: 0.9536 - dense_1_sparse_categorical_accuracy: 0.7928 - dense_2_sparse_categorical_accuracy: 0.6952 - dense_3_sparse_categorical_accuracy: 0.7408 - val_loss: 2.2583 - val_dense_loss: 0.1805 - val_dense_1_loss: 0.6091 - val_dense_2_loss: 0.8680 - val_dense_3_loss: 0.6007 - val_dense_sparse_categorical_accuracy: 0.9640 - val_dense_1_sparse_categorical_accuracy: 0.7820 - val_dense_2_sparse_categorical_accuracy: 0.6960 - val_dense_3_sparse_categorical_accuracy: 0.7440\n",
      "Epoch 13/100\n",
      "250/250 [==============================] - 71s 283ms/step - loss: 2.4911 - dense_loss: 0.2334 - dense_1_loss: 0.6384 - dense_2_loss: 0.8939 - dense_3_loss: 0.7254 - dense_sparse_categorical_accuracy: 0.9412 - dense_1_sparse_categorical_accuracy: 0.7716 - dense_2_sparse_categorical_accuracy: 0.6936 - dense_3_sparse_categorical_accuracy: 0.7124 - val_loss: 2.2335 - val_dense_loss: 0.2207 - val_dense_1_loss: 0.5954 - val_dense_2_loss: 0.7855 - val_dense_3_loss: 0.6319 - val_dense_sparse_categorical_accuracy: 0.9540 - val_dense_1_sparse_categorical_accuracy: 0.8100 - val_dense_2_sparse_categorical_accuracy: 0.7240 - val_dense_3_sparse_categorical_accuracy: 0.7220\n",
      "Epoch 14/100\n",
      "250/250 [==============================] - 71s 285ms/step - loss: 1.9931 - dense_loss: 0.1658 - dense_1_loss: 0.4833 - dense_2_loss: 0.7891 - dense_3_loss: 0.5549 - dense_sparse_categorical_accuracy: 0.9644 - dense_1_sparse_categorical_accuracy: 0.8200 - dense_2_sparse_categorical_accuracy: 0.7264 - dense_3_sparse_categorical_accuracy: 0.7676 - val_loss: 1.9503 - val_dense_loss: 0.1312 - val_dense_1_loss: 0.5167 - val_dense_2_loss: 0.7765 - val_dense_3_loss: 0.5260 - val_dense_sparse_categorical_accuracy: 0.9740 - val_dense_1_sparse_categorical_accuracy: 0.8080 - val_dense_2_sparse_categorical_accuracy: 0.7280 - val_dense_3_sparse_categorical_accuracy: 0.7640\n",
      "Epoch 15/100\n",
      "250/250 [==============================] - 70s 282ms/step - loss: 1.8277 - dense_loss: 0.1469 - dense_1_loss: 0.4603 - dense_2_loss: 0.7315 - dense_3_loss: 0.4890 - dense_sparse_categorical_accuracy: 0.9692 - dense_1_sparse_categorical_accuracy: 0.8248 - dense_2_sparse_categorical_accuracy: 0.7360 - dense_3_sparse_categorical_accuracy: 0.7996 - val_loss: 1.8437 - val_dense_loss: 0.1312 - val_dense_1_loss: 0.5096 - val_dense_2_loss: 0.7370 - val_dense_3_loss: 0.4659 - val_dense_sparse_categorical_accuracy: 0.9740 - val_dense_1_sparse_categorical_accuracy: 0.8140 - val_dense_2_sparse_categorical_accuracy: 0.7660 - val_dense_3_sparse_categorical_accuracy: 0.8020\n",
      "Epoch 16/100\n",
      "250/250 [==============================] - 70s 281ms/step - loss: 1.7225 - dense_loss: 0.1413 - dense_1_loss: 0.4261 - dense_2_loss: 0.7045 - dense_3_loss: 0.4506 - dense_sparse_categorical_accuracy: 0.9712 - dense_1_sparse_categorical_accuracy: 0.8348 - dense_2_sparse_categorical_accuracy: 0.7512 - dense_3_sparse_categorical_accuracy: 0.8224 - val_loss: 1.7110 - val_dense_loss: 0.0940 - val_dense_1_loss: 0.4781 - val_dense_2_loss: 0.7244 - val_dense_3_loss: 0.4145 - val_dense_sparse_categorical_accuracy: 0.9860 - val_dense_1_sparse_categorical_accuracy: 0.8340 - val_dense_2_sparse_categorical_accuracy: 0.7580 - val_dense_3_sparse_categorical_accuracy: 0.8560\n",
      "Epoch 17/100\n",
      "250/250 [==============================] - 70s 280ms/step - loss: 1.6120 - dense_loss: 0.1183 - dense_1_loss: 0.4039 - dense_2_loss: 0.6690 - dense_3_loss: 0.4208 - dense_sparse_categorical_accuracy: 0.9784 - dense_1_sparse_categorical_accuracy: 0.8432 - dense_2_sparse_categorical_accuracy: 0.7700 - dense_3_sparse_categorical_accuracy: 0.8348 - val_loss: 1.6735 - val_dense_loss: 0.1318 - val_dense_1_loss: 0.4512 - val_dense_2_loss: 0.6956 - val_dense_3_loss: 0.3950 - val_dense_sparse_categorical_accuracy: 0.9780 - val_dense_1_sparse_categorical_accuracy: 0.8460 - val_dense_2_sparse_categorical_accuracy: 0.7780 - val_dense_3_sparse_categorical_accuracy: 0.8580\n",
      "Epoch 18/100\n",
      "250/250 [==============================] - 69s 275ms/step - loss: 1.5261 - dense_loss: 0.1178 - dense_1_loss: 0.3840 - dense_2_loss: 0.6414 - dense_3_loss: 0.3829 - dense_sparse_categorical_accuracy: 0.9776 - dense_1_sparse_categorical_accuracy: 0.8544 - dense_2_sparse_categorical_accuracy: 0.7764 - dense_3_sparse_categorical_accuracy: 0.8604 - val_loss: 1.5435 - val_dense_loss: 0.0826 - val_dense_1_loss: 0.4288 - val_dense_2_loss: 0.6573 - val_dense_3_loss: 0.3748 - val_dense_sparse_categorical_accuracy: 0.9840 - val_dense_1_sparse_categorical_accuracy: 0.8480 - val_dense_2_sparse_categorical_accuracy: 0.7840 - val_dense_3_sparse_categorical_accuracy: 0.8640\n",
      "Epoch 19/100\n",
      "250/250 [==============================] - 70s 281ms/step - loss: 1.4486 - dense_loss: 0.1055 - dense_1_loss: 0.3774 - dense_2_loss: 0.6107 - dense_3_loss: 0.3550 - dense_sparse_categorical_accuracy: 0.9796 - dense_1_sparse_categorical_accuracy: 0.8600 - dense_2_sparse_categorical_accuracy: 0.7896 - dense_3_sparse_categorical_accuracy: 0.8712 - val_loss: 1.5553 - val_dense_loss: 0.0941 - val_dense_1_loss: 0.4090 - val_dense_2_loss: 0.6578 - val_dense_3_loss: 0.3944 - val_dense_sparse_categorical_accuracy: 0.9800 - val_dense_1_sparse_categorical_accuracy: 0.8600 - val_dense_2_sparse_categorical_accuracy: 0.7640 - val_dense_3_sparse_categorical_accuracy: 0.8620\n",
      "Epoch 20/100\n",
      "250/250 [==============================] - 70s 278ms/step - loss: 1.7061 - dense_loss: 0.2163 - dense_1_loss: 0.4231 - dense_2_loss: 0.6750 - dense_3_loss: 0.3917 - dense_sparse_categorical_accuracy: 0.9560 - dense_1_sparse_categorical_accuracy: 0.8500 - dense_2_sparse_categorical_accuracy: 0.7780 - dense_3_sparse_categorical_accuracy: 0.8608 - val_loss: 1.4915 - val_dense_loss: 0.1389 - val_dense_1_loss: 0.4010 - val_dense_2_loss: 0.6171 - val_dense_3_loss: 0.3345 - val_dense_sparse_categorical_accuracy: 0.9740 - val_dense_1_sparse_categorical_accuracy: 0.8720 - val_dense_2_sparse_categorical_accuracy: 0.7620 - val_dense_3_sparse_categorical_accuracy: 0.8980\n",
      "Epoch 21/100\n",
      "250/250 [==============================] - 70s 280ms/step - loss: 1.3422 - dense_loss: 0.1076 - dense_1_loss: 0.3459 - dense_2_loss: 0.5723 - dense_3_loss: 0.3165 - dense_sparse_categorical_accuracy: 0.9784 - dense_1_sparse_categorical_accuracy: 0.8744 - dense_2_sparse_categorical_accuracy: 0.8060 - dense_3_sparse_categorical_accuracy: 0.8936 - val_loss: 1.4846 - val_dense_loss: 0.1043 - val_dense_1_loss: 0.4048 - val_dense_2_loss: 0.6357 - val_dense_3_loss: 0.3398 - val_dense_sparse_categorical_accuracy: 0.9720 - val_dense_1_sparse_categorical_accuracy: 0.8680 - val_dense_2_sparse_categorical_accuracy: 0.7920 - val_dense_3_sparse_categorical_accuracy: 0.8720\n",
      "Epoch 22/100\n",
      "250/250 [==============================] - 70s 280ms/step - loss: 1.5565 - dense_loss: 0.1582 - dense_1_loss: 0.3826 - dense_2_loss: 0.6382 - dense_3_loss: 0.3775 - dense_sparse_categorical_accuracy: 0.9576 - dense_1_sparse_categorical_accuracy: 0.8588 - dense_2_sparse_categorical_accuracy: 0.7908 - dense_3_sparse_categorical_accuracy: 0.8748 - val_loss: 1.4344 - val_dense_loss: 0.0740 - val_dense_1_loss: 0.3950 - val_dense_2_loss: 0.6116 - val_dense_3_loss: 0.3537 - val_dense_sparse_categorical_accuracy: 0.9820 - val_dense_1_sparse_categorical_accuracy: 0.8780 - val_dense_2_sparse_categorical_accuracy: 0.8020 - val_dense_3_sparse_categorical_accuracy: 0.8820\n",
      "Epoch 23/100\n",
      "250/250 [==============================] - 69s 277ms/step - loss: 1.1930 - dense_loss: 0.0815 - dense_1_loss: 0.3028 - dense_2_loss: 0.5290 - dense_3_loss: 0.2797 - dense_sparse_categorical_accuracy: 0.9872 - dense_1_sparse_categorical_accuracy: 0.8908 - dense_2_sparse_categorical_accuracy: 0.8232 - dense_3_sparse_categorical_accuracy: 0.9064 - val_loss: 1.3221 - val_dense_loss: 0.0640 - val_dense_1_loss: 0.3566 - val_dense_2_loss: 0.6252 - val_dense_3_loss: 0.2763 - val_dense_sparse_categorical_accuracy: 0.9900 - val_dense_1_sparse_categorical_accuracy: 0.8900 - val_dense_2_sparse_categorical_accuracy: 0.8000 - val_dense_3_sparse_categorical_accuracy: 0.9040\n",
      "Epoch 24/100\n",
      "250/250 [==============================] - 69s 278ms/step - loss: 1.1410 - dense_loss: 0.0729 - dense_1_loss: 0.2874 - dense_2_loss: 0.5205 - dense_3_loss: 0.2602 - dense_sparse_categorical_accuracy: 0.9860 - dense_1_sparse_categorical_accuracy: 0.8968 - dense_2_sparse_categorical_accuracy: 0.8328 - dense_3_sparse_categorical_accuracy: 0.9224 - val_loss: 1.1773 - val_dense_loss: 0.0577 - val_dense_1_loss: 0.3266 - val_dense_2_loss: 0.5531 - val_dense_3_loss: 0.2399 - val_dense_sparse_categorical_accuracy: 0.9820 - val_dense_1_sparse_categorical_accuracy: 0.8880 - val_dense_2_sparse_categorical_accuracy: 0.8180 - val_dense_3_sparse_categorical_accuracy: 0.9360\n",
      "Epoch 25/100\n",
      "250/250 [==============================] - 69s 278ms/step - loss: 1.1969 - dense_loss: 0.0963 - dense_1_loss: 0.3059 - dense_2_loss: 0.5214 - dense_3_loss: 0.2733 - dense_sparse_categorical_accuracy: 0.9800 - dense_1_sparse_categorical_accuracy: 0.8900 - dense_2_sparse_categorical_accuracy: 0.8312 - dense_3_sparse_categorical_accuracy: 0.9132 - val_loss: 1.3048 - val_dense_loss: 0.0471 - val_dense_1_loss: 0.3532 - val_dense_2_loss: 0.6591 - val_dense_3_loss: 0.2453 - val_dense_sparse_categorical_accuracy: 0.9980 - val_dense_1_sparse_categorical_accuracy: 0.8860 - val_dense_2_sparse_categorical_accuracy: 0.7920 - val_dense_3_sparse_categorical_accuracy: 0.9260\n",
      "Epoch 26/100\n",
      "250/250 [==============================] - 70s 280ms/step - loss: 1.9696 - dense_loss: 0.1605 - dense_1_loss: 0.5230 - dense_2_loss: 0.7670 - dense_3_loss: 0.5191 - dense_sparse_categorical_accuracy: 0.9644 - dense_1_sparse_categorical_accuracy: 0.8404 - dense_2_sparse_categorical_accuracy: 0.7640 - dense_3_sparse_categorical_accuracy: 0.8316 - val_loss: 1.3849 - val_dense_loss: 0.0818 - val_dense_1_loss: 0.3762 - val_dense_2_loss: 0.5956 - val_dense_3_loss: 0.3313 - val_dense_sparse_categorical_accuracy: 0.9840 - val_dense_1_sparse_categorical_accuracy: 0.8680 - val_dense_2_sparse_categorical_accuracy: 0.7880 - val_dense_3_sparse_categorical_accuracy: 0.8860\n",
      "Epoch 27/100\n",
      "250/250 [==============================] - 69s 277ms/step - loss: 1.8834 - dense_loss: 0.1732 - dense_1_loss: 0.4552 - dense_2_loss: 0.6582 - dense_3_loss: 0.5968 - dense_sparse_categorical_accuracy: 0.9560 - dense_1_sparse_categorical_accuracy: 0.8600 - dense_2_sparse_categorical_accuracy: 0.7856 - dense_3_sparse_categorical_accuracy: 0.8580 - val_loss: 1.3110 - val_dense_loss: 0.0962 - val_dense_1_loss: 0.3395 - val_dense_2_loss: 0.5595 - val_dense_3_loss: 0.3157 - val_dense_sparse_categorical_accuracy: 0.9760 - val_dense_1_sparse_categorical_accuracy: 0.8920 - val_dense_2_sparse_categorical_accuracy: 0.8060 - val_dense_3_sparse_categorical_accuracy: 0.9020\n",
      "Epoch 28/100\n",
      "250/250 [==============================] - 70s 279ms/step - loss: 1.1141 - dense_loss: 0.0835 - dense_1_loss: 0.2734 - dense_2_loss: 0.4952 - dense_3_loss: 0.2620 - dense_sparse_categorical_accuracy: 0.9840 - dense_1_sparse_categorical_accuracy: 0.9060 - dense_2_sparse_categorical_accuracy: 0.8296 - dense_3_sparse_categorical_accuracy: 0.9208 - val_loss: 1.2472 - val_dense_loss: 0.0644 - val_dense_1_loss: 0.3557 - val_dense_2_loss: 0.5601 - val_dense_3_loss: 0.2669 - val_dense_sparse_categorical_accuracy: 0.9880 - val_dense_1_sparse_categorical_accuracy: 0.8880 - val_dense_2_sparse_categorical_accuracy: 0.8120 - val_dense_3_sparse_categorical_accuracy: 0.9200\n",
      "Epoch 29/100\n",
      "250/250 [==============================] - 69s 277ms/step - loss: 1.0218 - dense_loss: 0.0678 - dense_1_loss: 0.2536 - dense_2_loss: 0.4672 - dense_3_loss: 0.2332 - dense_sparse_categorical_accuracy: 0.9876 - dense_1_sparse_categorical_accuracy: 0.9136 - dense_2_sparse_categorical_accuracy: 0.8444 - dense_3_sparse_categorical_accuracy: 0.9332 - val_loss: 1.2921 - val_dense_loss: 0.1349 - val_dense_1_loss: 0.3106 - val_dense_2_loss: 0.5778 - val_dense_3_loss: 0.2688 - val_dense_sparse_categorical_accuracy: 0.9720 - val_dense_1_sparse_categorical_accuracy: 0.8900 - val_dense_2_sparse_categorical_accuracy: 0.8060 - val_dense_3_sparse_categorical_accuracy: 0.9040\n",
      "Epoch 30/100\n",
      "250/250 [==============================] - 69s 275ms/step - loss: 1.0313 - dense_loss: 0.0901 - dense_1_loss: 0.2478 - dense_2_loss: 0.4657 - dense_3_loss: 0.2277 - dense_sparse_categorical_accuracy: 0.9828 - dense_1_sparse_categorical_accuracy: 0.9168 - dense_2_sparse_categorical_accuracy: 0.8368 - dense_3_sparse_categorical_accuracy: 0.9380 - val_loss: 1.1362 - val_dense_loss: 0.0650 - val_dense_1_loss: 0.3115 - val_dense_2_loss: 0.5201 - val_dense_3_loss: 0.2395 - val_dense_sparse_categorical_accuracy: 0.9820 - val_dense_1_sparse_categorical_accuracy: 0.8880 - val_dense_2_sparse_categorical_accuracy: 0.8340 - val_dense_3_sparse_categorical_accuracy: 0.9320\n",
      "Epoch 31/100\n",
      "250/250 [==============================] - 70s 279ms/step - loss: 0.9529 - dense_loss: 0.0646 - dense_1_loss: 0.2427 - dense_2_loss: 0.4435 - dense_3_loss: 0.2021 - dense_sparse_categorical_accuracy: 0.9892 - dense_1_sparse_categorical_accuracy: 0.9212 - dense_2_sparse_categorical_accuracy: 0.8480 - dense_3_sparse_categorical_accuracy: 0.9472 - val_loss: 1.0890 - val_dense_loss: 0.0682 - val_dense_1_loss: 0.2997 - val_dense_2_loss: 0.5018 - val_dense_3_loss: 0.2192 - val_dense_sparse_categorical_accuracy: 0.9820 - val_dense_1_sparse_categorical_accuracy: 0.8900 - val_dense_2_sparse_categorical_accuracy: 0.8420 - val_dense_3_sparse_categorical_accuracy: 0.9340\n",
      "Epoch 32/100\n",
      "250/250 [==============================] - 71s 282ms/step - loss: 0.9310 - dense_loss: 0.0642 - dense_1_loss: 0.2345 - dense_2_loss: 0.4322 - dense_3_loss: 0.2001 - dense_sparse_categorical_accuracy: 0.9864 - dense_1_sparse_categorical_accuracy: 0.9244 - dense_2_sparse_categorical_accuracy: 0.8564 - dense_3_sparse_categorical_accuracy: 0.9448 - val_loss: 1.1340 - val_dense_loss: 0.0671 - val_dense_1_loss: 0.3247 - val_dense_2_loss: 0.5240 - val_dense_3_loss: 0.2181 - val_dense_sparse_categorical_accuracy: 0.9840 - val_dense_1_sparse_categorical_accuracy: 0.8940 - val_dense_2_sparse_categorical_accuracy: 0.8340 - val_dense_3_sparse_categorical_accuracy: 0.9320\n",
      "Epoch 33/100\n",
      "250/250 [==============================] - 69s 276ms/step - loss: 0.8882 - dense_loss: 0.0601 - dense_1_loss: 0.2288 - dense_2_loss: 0.4164 - dense_3_loss: 0.1829 - dense_sparse_categorical_accuracy: 0.9896 - dense_1_sparse_categorical_accuracy: 0.9300 - dense_2_sparse_categorical_accuracy: 0.8632 - dense_3_sparse_categorical_accuracy: 0.9480 - val_loss: 1.0328 - val_dense_loss: 0.0595 - val_dense_1_loss: 0.2929 - val_dense_2_loss: 0.4818 - val_dense_3_loss: 0.1987 - val_dense_sparse_categorical_accuracy: 0.9840 - val_dense_1_sparse_categorical_accuracy: 0.8980 - val_dense_2_sparse_categorical_accuracy: 0.8480 - val_dense_3_sparse_categorical_accuracy: 0.9460\n",
      "Epoch 34/100\n",
      "250/250 [==============================] - 70s 280ms/step - loss: 0.8639 - dense_loss: 0.0622 - dense_1_loss: 0.2220 - dense_2_loss: 0.4051 - dense_3_loss: 0.1746 - dense_sparse_categorical_accuracy: 0.9884 - dense_1_sparse_categorical_accuracy: 0.9256 - dense_2_sparse_categorical_accuracy: 0.8660 - dense_3_sparse_categorical_accuracy: 0.9536 - val_loss: 1.1000 - val_dense_loss: 0.0576 - val_dense_1_loss: 0.3077 - val_dense_2_loss: 0.5015 - val_dense_3_loss: 0.2333 - val_dense_sparse_categorical_accuracy: 0.9880 - val_dense_1_sparse_categorical_accuracy: 0.8900 - val_dense_2_sparse_categorical_accuracy: 0.8340 - val_dense_3_sparse_categorical_accuracy: 0.9240\n",
      "Epoch 35/100\n",
      "250/250 [==============================] - 68s 272ms/step - loss: 0.8493 - dense_loss: 0.0588 - dense_1_loss: 0.2238 - dense_2_loss: 0.3934 - dense_3_loss: 0.1733 - dense_sparse_categorical_accuracy: 0.9896 - dense_1_sparse_categorical_accuracy: 0.9276 - dense_2_sparse_categorical_accuracy: 0.8740 - dense_3_sparse_categorical_accuracy: 0.9520 - val_loss: 1.0922 - val_dense_loss: 0.0525 - val_dense_1_loss: 0.3351 - val_dense_2_loss: 0.5072 - val_dense_3_loss: 0.1973 - val_dense_sparse_categorical_accuracy: 0.9900 - val_dense_1_sparse_categorical_accuracy: 0.8960 - val_dense_2_sparse_categorical_accuracy: 0.8380 - val_dense_3_sparse_categorical_accuracy: 0.9460\n",
      "Epoch 36/100\n",
      "250/250 [==============================] - 70s 281ms/step - loss: 0.8191 - dense_loss: 0.0558 - dense_1_loss: 0.2187 - dense_2_loss: 0.3866 - dense_3_loss: 0.1580 - dense_sparse_categorical_accuracy: 0.9884 - dense_1_sparse_categorical_accuracy: 0.9284 - dense_2_sparse_categorical_accuracy: 0.8760 - dense_3_sparse_categorical_accuracy: 0.9612 - val_loss: 1.1890 - val_dense_loss: 0.1076 - val_dense_1_loss: 0.3162 - val_dense_2_loss: 0.5611 - val_dense_3_loss: 0.2041 - val_dense_sparse_categorical_accuracy: 0.9760 - val_dense_1_sparse_categorical_accuracy: 0.8760 - val_dense_2_sparse_categorical_accuracy: 0.8300 - val_dense_3_sparse_categorical_accuracy: 0.9280\n",
      "Epoch 37/100\n",
      "250/250 [==============================] - 70s 281ms/step - loss: 1.3372 - dense_loss: 0.1261 - dense_1_loss: 0.3750 - dense_2_loss: 0.5465 - dense_3_loss: 0.2896 - dense_sparse_categorical_accuracy: 0.9700 - dense_1_sparse_categorical_accuracy: 0.8864 - dense_2_sparse_categorical_accuracy: 0.8356 - dense_3_sparse_categorical_accuracy: 0.9112 - val_loss: 1.6477 - val_dense_loss: 0.3607 - val_dense_1_loss: 0.3691 - val_dense_2_loss: 0.6042 - val_dense_3_loss: 0.3137 - val_dense_sparse_categorical_accuracy: 0.9440 - val_dense_1_sparse_categorical_accuracy: 0.8700 - val_dense_2_sparse_categorical_accuracy: 0.7880 - val_dense_3_sparse_categorical_accuracy: 0.8820\n",
      "Epoch 38/100\n",
      "250/250 [==============================] - 74s 298ms/step - loss: 1.5832 - dense_loss: 0.3066 - dense_1_loss: 0.3659 - dense_2_loss: 0.5829 - dense_3_loss: 0.3277 - dense_sparse_categorical_accuracy: 0.9284 - dense_1_sparse_categorical_accuracy: 0.8792 - dense_2_sparse_categorical_accuracy: 0.8108 - dense_3_sparse_categorical_accuracy: 0.9068 - val_loss: 1.2350 - val_dense_loss: 0.1583 - val_dense_1_loss: 0.2970 - val_dense_2_loss: 0.5390 - val_dense_3_loss: 0.2407 - val_dense_sparse_categorical_accuracy: 0.9620 - val_dense_1_sparse_categorical_accuracy: 0.9020 - val_dense_2_sparse_categorical_accuracy: 0.8320 - val_dense_3_sparse_categorical_accuracy: 0.9280\n",
      "Epoch 39/100\n",
      "250/250 [==============================] - 73s 290ms/step - loss: 1.0819 - dense_loss: 0.0916 - dense_1_loss: 0.2596 - dense_2_loss: 0.4980 - dense_3_loss: 0.2327 - dense_sparse_categorical_accuracy: 0.9752 - dense_1_sparse_categorical_accuracy: 0.9196 - dense_2_sparse_categorical_accuracy: 0.8260 - dense_3_sparse_categorical_accuracy: 0.9268 - val_loss: 1.0382 - val_dense_loss: 0.0520 - val_dense_1_loss: 0.2616 - val_dense_2_loss: 0.5146 - val_dense_3_loss: 0.2100 - val_dense_sparse_categorical_accuracy: 0.9940 - val_dense_1_sparse_categorical_accuracy: 0.8940 - val_dense_2_sparse_categorical_accuracy: 0.8260 - val_dense_3_sparse_categorical_accuracy: 0.9460\n",
      "Epoch 40/100\n",
      " 12/250 [>.............................] - ETA: 1:08 - loss: 1.0459 - dense_loss: 0.1245 - dense_1_loss: 0.1973 - dense_2_loss: 0.5365 - dense_3_loss: 0.1876 - dense_sparse_categorical_accuracy: 0.9917 - dense_1_sparse_categorical_accuracy: 0.9250 - dense_2_sparse_categorical_accuracy: 0.8500 - dense_3_sparse_categorical_accuracy: 0.9417"
     ]
    },
    {
     "name": "stderr",
     "output_type": "stream",
     "text": [
      "\n",
      "KeyboardInterrupt\n",
      "\n"
     ]
    }
   ],
   "source": [
    "mdl.fit(x={\"x_input\":x[:val_split]}, y={\"y1\":y[:val_split, 0], \"y2\":y[:val_split, 1], \"y3\":y[:val_split, 2], \"y4\":y[:val_split, 3]},\n",
    "    validation_data=(x[val_split:], {\"y1\":y[val_split:, 0], \"y2\":y[val_split:, 1], \"y3\":y[val_split:, 2], \"y4\":y[val_split:, 3]}), batch_size=10, epochs=100, shuffle=True)"
   ]
  },
  {
   "cell_type": "code",
   "execution_count": 15,
   "id": "dd1c4ca5-e169-4459-9bfd-88c8e4e3d828",
   "metadata": {},
   "outputs": [
    {
     "name": "stderr",
     "output_type": "stream",
     "text": [
      "WARNING:absl:Found untraced functions such as _jit_compiled_convolution_op, _jit_compiled_convolution_op, _jit_compiled_convolution_op, _jit_compiled_convolution_op, _jit_compiled_convolution_op while saving (showing 5 of 10). These functions will not be directly callable after loading.\n"
     ]
    },
    {
     "name": "stdout",
     "output_type": "stream",
     "text": [
      "INFO:tensorflow:Assets written to: mdl_40_ep\\assets\n"
     ]
    },
    {
     "name": "stderr",
     "output_type": "stream",
     "text": [
      "INFO:tensorflow:Assets written to: mdl_40_ep\\assets\n"
     ]
    }
   ],
   "source": [
    "mdl.save(\"mdl_40_ep\")"
   ]
  },
  {
   "cell_type": "code",
   "execution_count": 16,
   "id": "9cc8b6a3-38e4-45a8-b0dd-10caa1e55e54",
   "metadata": {},
   "outputs": [],
   "source": [
    "mdl.compile(\n",
    "    optimizer=tf.keras.optimizers.Adam(0.0001),\n",
    "    loss={\"y1\": \"sparse_categorical_crossentropy\", \"y2\": \"sparse_categorical_crossentropy\", \"y3\": \"sparse_categorical_crossentropy\", \"y4\": \"sparse_categorical_crossentropy\"},\n",
    "    metrics={\"y1\": \"sparse_categorical_accuracy\", \"y2\": \"sparse_categorical_accuracy\", \"y3\": \"sparse_categorical_accuracy\", \"y4\": \"sparse_categorical_accuracy\"}\n",
    ")"
   ]
  },
  {
   "cell_type": "code",
   "execution_count": 17,
   "id": "0d160011-5542-486d-bdda-8f663e3ed8be",
   "metadata": {},
   "outputs": [
    {
     "name": "stdout",
     "output_type": "stream",
     "text": [
      "Epoch 1/40\n",
      "250/250 [==============================] - 72s 280ms/step - loss: 0.8125 - dense_loss: 0.0507 - dense_1_loss: 0.2001 - dense_2_loss: 0.3843 - dense_3_loss: 0.1774 - dense_sparse_categorical_accuracy: 0.9924 - dense_1_sparse_categorical_accuracy: 0.9408 - dense_2_sparse_categorical_accuracy: 0.8700 - dense_3_sparse_categorical_accuracy: 0.9576 - val_loss: 0.9880 - val_dense_loss: 0.0486 - val_dense_1_loss: 0.2557 - val_dense_2_loss: 0.4825 - val_dense_3_loss: 0.2012 - val_dense_sparse_categorical_accuracy: 0.9900 - val_dense_1_sparse_categorical_accuracy: 0.9100 - val_dense_2_sparse_categorical_accuracy: 0.8400 - val_dense_3_sparse_categorical_accuracy: 0.9420\n",
      "Epoch 2/40\n",
      "250/250 [==============================] - 69s 276ms/step - loss: 0.7770 - dense_loss: 0.0490 - dense_1_loss: 0.1892 - dense_2_loss: 0.3696 - dense_3_loss: 0.1692 - dense_sparse_categorical_accuracy: 0.9912 - dense_1_sparse_categorical_accuracy: 0.9456 - dense_2_sparse_categorical_accuracy: 0.8732 - dense_3_sparse_categorical_accuracy: 0.9548 - val_loss: 0.9891 - val_dense_loss: 0.0509 - val_dense_1_loss: 0.2677 - val_dense_2_loss: 0.4790 - val_dense_3_loss: 0.1915 - val_dense_sparse_categorical_accuracy: 0.9880 - val_dense_1_sparse_categorical_accuracy: 0.9100 - val_dense_2_sparse_categorical_accuracy: 0.8460 - val_dense_3_sparse_categorical_accuracy: 0.9420\n",
      "Epoch 3/40\n",
      "250/250 [==============================] - 70s 280ms/step - loss: 0.7534 - dense_loss: 0.0466 - dense_1_loss: 0.1865 - dense_2_loss: 0.3580 - dense_3_loss: 0.1623 - dense_sparse_categorical_accuracy: 0.9936 - dense_1_sparse_categorical_accuracy: 0.9440 - dense_2_sparse_categorical_accuracy: 0.8756 - dense_3_sparse_categorical_accuracy: 0.9608 - val_loss: 0.9468 - val_dense_loss: 0.0448 - val_dense_1_loss: 0.2524 - val_dense_2_loss: 0.4612 - val_dense_3_loss: 0.1883 - val_dense_sparse_categorical_accuracy: 0.9920 - val_dense_1_sparse_categorical_accuracy: 0.9140 - val_dense_2_sparse_categorical_accuracy: 0.8480 - val_dense_3_sparse_categorical_accuracy: 0.9400\n",
      "Epoch 4/40\n",
      "250/250 [==============================] - 69s 278ms/step - loss: 0.7365 - dense_loss: 0.0454 - dense_1_loss: 0.1807 - dense_2_loss: 0.3564 - dense_3_loss: 0.1540 - dense_sparse_categorical_accuracy: 0.9932 - dense_1_sparse_categorical_accuracy: 0.9460 - dense_2_sparse_categorical_accuracy: 0.8820 - dense_3_sparse_categorical_accuracy: 0.9628 - val_loss: 0.9269 - val_dense_loss: 0.0383 - val_dense_1_loss: 0.2516 - val_dense_2_loss: 0.4573 - val_dense_3_loss: 0.1796 - val_dense_sparse_categorical_accuracy: 0.9940 - val_dense_1_sparse_categorical_accuracy: 0.9100 - val_dense_2_sparse_categorical_accuracy: 0.8440 - val_dense_3_sparse_categorical_accuracy: 0.9420\n",
      "Epoch 5/40\n",
      "250/250 [==============================] - 69s 277ms/step - loss: 0.7278 - dense_loss: 0.0451 - dense_1_loss: 0.1812 - dense_2_loss: 0.3519 - dense_3_loss: 0.1496 - dense_sparse_categorical_accuracy: 0.9932 - dense_1_sparse_categorical_accuracy: 0.9472 - dense_2_sparse_categorical_accuracy: 0.8860 - dense_3_sparse_categorical_accuracy: 0.9632 - val_loss: 0.9116 - val_dense_loss: 0.0297 - val_dense_1_loss: 0.2547 - val_dense_2_loss: 0.4516 - val_dense_3_loss: 0.1757 - val_dense_sparse_categorical_accuracy: 0.9940 - val_dense_1_sparse_categorical_accuracy: 0.9080 - val_dense_2_sparse_categorical_accuracy: 0.8580 - val_dense_3_sparse_categorical_accuracy: 0.9440\n",
      "Epoch 6/40\n",
      "250/250 [==============================] - 71s 285ms/step - loss: 0.7096 - dense_loss: 0.0453 - dense_1_loss: 0.1771 - dense_2_loss: 0.3421 - dense_3_loss: 0.1451 - dense_sparse_categorical_accuracy: 0.9928 - dense_1_sparse_categorical_accuracy: 0.9464 - dense_2_sparse_categorical_accuracy: 0.8864 - dense_3_sparse_categorical_accuracy: 0.9660 - val_loss: 0.9125 - val_dense_loss: 0.0358 - val_dense_1_loss: 0.2541 - val_dense_2_loss: 0.4432 - val_dense_3_loss: 0.1794 - val_dense_sparse_categorical_accuracy: 0.9940 - val_dense_1_sparse_categorical_accuracy: 0.9100 - val_dense_2_sparse_categorical_accuracy: 0.8520 - val_dense_3_sparse_categorical_accuracy: 0.9380\n",
      "Epoch 7/40\n",
      "250/250 [==============================] - 69s 278ms/step - loss: 0.6951 - dense_loss: 0.0447 - dense_1_loss: 0.1732 - dense_2_loss: 0.3321 - dense_3_loss: 0.1450 - dense_sparse_categorical_accuracy: 0.9932 - dense_1_sparse_categorical_accuracy: 0.9452 - dense_2_sparse_categorical_accuracy: 0.8900 - dense_3_sparse_categorical_accuracy: 0.9628 - val_loss: 0.9191 - val_dense_loss: 0.0387 - val_dense_1_loss: 0.2564 - val_dense_2_loss: 0.4467 - val_dense_3_loss: 0.1772 - val_dense_sparse_categorical_accuracy: 0.9920 - val_dense_1_sparse_categorical_accuracy: 0.9100 - val_dense_2_sparse_categorical_accuracy: 0.8540 - val_dense_3_sparse_categorical_accuracy: 0.9440\n",
      "Epoch 8/40\n",
      "250/250 [==============================] - 69s 277ms/step - loss: 0.6896 - dense_loss: 0.0444 - dense_1_loss: 0.1709 - dense_2_loss: 0.3334 - dense_3_loss: 0.1409 - dense_sparse_categorical_accuracy: 0.9932 - dense_1_sparse_categorical_accuracy: 0.9472 - dense_2_sparse_categorical_accuracy: 0.8920 - dense_3_sparse_categorical_accuracy: 0.9668 - val_loss: 0.8977 - val_dense_loss: 0.0351 - val_dense_1_loss: 0.2561 - val_dense_2_loss: 0.4354 - val_dense_3_loss: 0.1710 - val_dense_sparse_categorical_accuracy: 0.9920 - val_dense_1_sparse_categorical_accuracy: 0.9080 - val_dense_2_sparse_categorical_accuracy: 0.8600 - val_dense_3_sparse_categorical_accuracy: 0.9520\n",
      "Epoch 9/40\n",
      "250/250 [==============================] - 69s 276ms/step - loss: 0.6802 - dense_loss: 0.0437 - dense_1_loss: 0.1704 - dense_2_loss: 0.3280 - dense_3_loss: 0.1380 - dense_sparse_categorical_accuracy: 0.9932 - dense_1_sparse_categorical_accuracy: 0.9496 - dense_2_sparse_categorical_accuracy: 0.8916 - dense_3_sparse_categorical_accuracy: 0.9652 - val_loss: 0.9101 - val_dense_loss: 0.0365 - val_dense_1_loss: 0.2565 - val_dense_2_loss: 0.4430 - val_dense_3_loss: 0.1740 - val_dense_sparse_categorical_accuracy: 0.9920 - val_dense_1_sparse_categorical_accuracy: 0.9060 - val_dense_2_sparse_categorical_accuracy: 0.8640 - val_dense_3_sparse_categorical_accuracy: 0.9500\n",
      "Epoch 10/40\n",
      " 20/250 [=>............................] - ETA: 1:02 - loss: 0.7073 - dense_loss: 0.0207 - dense_1_loss: 0.1577 - dense_2_loss: 0.3605 - dense_3_loss: 0.1684 - dense_sparse_categorical_accuracy: 0.9950 - dense_1_sparse_categorical_accuracy: 0.9500 - dense_2_sparse_categorical_accuracy: 0.8950 - dense_3_sparse_categorical_accuracy: 0.9550"
     ]
    },
    {
     "name": "stderr",
     "output_type": "stream",
     "text": [
      "\n",
      "KeyboardInterrupt\n",
      "\n"
     ]
    }
   ],
   "source": [
    "mdl.fit(x={\"x_input\":x[:val_split]}, y={\"y1\":y[:val_split, 0], \"y2\":y[:val_split, 1], \"y3\":y[:val_split, 2], \"y4\":y[:val_split, 3]},\n",
    "    validation_data=(x[val_split:], {\"y1\":y[val_split:, 0], \"y2\":y[val_split:, 1], \"y3\":y[val_split:, 2], \"y4\":y[val_split:, 3]}), batch_size=10, epochs=40, shuffle=True)"
   ]
  },
  {
   "cell_type": "code",
   "execution_count": 19,
   "id": "ca8c0997-5d09-487d-a9d7-1b044a49cdd6",
   "metadata": {},
   "outputs": [
    {
     "name": "stdout",
     "output_type": "stream",
     "text": [
      "16/16 [==============================] - 1s 4ms/step - loss: 0.8980 - dense_loss: 0.0328 - dense_1_loss: 0.2576 - dense_2_loss: 0.4363 - dense_3_loss: 0.1712 - dense_sparse_categorical_accuracy: 0.9940 - dense_1_sparse_categorical_accuracy: 0.9100 - dense_2_sparse_categorical_accuracy: 0.8560 - dense_3_sparse_categorical_accuracy: 0.9420\n"
     ]
    },
    {
     "data": {
      "text/plain": [
       "[0.8980357646942139,\n",
       " 0.032843515276908875,\n",
       " 0.25763097405433655,\n",
       " 0.43632185459136963,\n",
       " 0.1712392419576645,\n",
       " 0.9940000176429749,\n",
       " 0.9100000262260437,\n",
       " 0.8560000061988831,\n",
       " 0.9419999718666077]"
      ]
     },
     "execution_count": 19,
     "metadata": {},
     "output_type": "execute_result"
    }
   ],
   "source": [
    "mdl.evaluate(x[val_split:], {\"y1\":y[val_split:, 0], \"y2\":y[val_split:, 1], \"y3\":y[val_split:, 2], \"y4\":y[val_split:, 3]})"
   ]
  },
  {
   "cell_type": "code",
   "execution_count": 21,
   "id": "cfdd0b20-2bd9-4600-a295-96180e13d90f",
   "metadata": {},
   "outputs": [
    {
     "name": "stderr",
     "output_type": "stream",
     "text": [
      "WARNING:absl:Found untraced functions such as _jit_compiled_convolution_op, _jit_compiled_convolution_op, _jit_compiled_convolution_op, _jit_compiled_convolution_op, _jit_compiled_convolution_op while saving (showing 5 of 10). These functions will not be directly callable after loading.\n"
     ]
    },
    {
     "name": "stdout",
     "output_type": "stream",
     "text": [
      "INFO:tensorflow:Assets written to: mdl_40_10_ep\\assets\n"
     ]
    },
    {
     "name": "stderr",
     "output_type": "stream",
     "text": [
      "INFO:tensorflow:Assets written to: mdl_40_10_ep\\assets\n"
     ]
    }
   ],
   "source": [
    "mdl.save(\"mdl_40_10_ep\")"
   ]
  },
  {
   "cell_type": "code",
   "execution_count": 20,
   "id": "ad58bad6-4900-41df-902c-2c0c2fe4d112",
   "metadata": {},
   "outputs": [
    {
     "data": {
      "text/plain": [
       "0.7293776555452306"
      ]
     },
     "execution_count": 20,
     "metadata": {},
     "output_type": "execute_result"
    }
   ],
   "source": [
    "np.prod([0.9940000176429749,\n",
    " 0.9100000262260437,\n",
    " 0.8560000061988831,\n",
    " 0.9419999718666077])"
   ]
  },
  {
   "cell_type": "code",
   "execution_count": 27,
   "id": "d72d6233-5e7f-40c6-a7b1-1c390d0c0d43",
   "metadata": {},
   "outputs": [
    {
     "name": "stdout",
     "output_type": "stream",
     "text": [
      "WARNING:tensorflow:Compiled the loaded model, but the compiled metrics have yet to be built. `model.compile_metrics` will be empty until you train or evaluate the model.\n"
     ]
    },
    {
     "name": "stderr",
     "output_type": "stream",
     "text": [
      "WARNING:tensorflow:Compiled the loaded model, but the compiled metrics have yet to be built. `model.compile_metrics` will be empty until you train or evaluate the model.\n"
     ]
    }
   ],
   "source": [
    "m2 = tf.keras.models.load_model(\"mdl_40_10_ep/\")"
   ]
  },
  {
   "cell_type": "code",
   "execution_count": 26,
   "id": "6f908cc1-4a6e-4581-b369-252ca0359b3f",
   "metadata": {},
   "outputs": [
    {
     "name": "stdout",
     "output_type": "stream",
     "text": [
      "# packages in environment at D:\\Ana\\envs\\Captcha:\n",
      "#\n",
      "# Name                    Version                   Build  Channel\n",
      "_tflow_select             2.3.0                       mkl  \n",
      "abseil-cpp                20211102.0           hd77b12b_0  \n",
      "absl-py                   2.1.0           py310haa95532_0  \n",
      "aiohttp                   3.9.5           py310h2bbff1b_0  \n",
      "aiosignal                 1.2.0              pyhd3eb1b0_0  \n",
      "anyio                     4.2.0           py310haa95532_0  \n",
      "argon2-cffi               21.3.0             pyhd3eb1b0_0  \n",
      "argon2-cffi-bindings      21.2.0          py310h2bbff1b_0  \n",
      "asttokens                 2.0.5              pyhd3eb1b0_0  \n",
      "astunparse                1.6.3                      py_0  \n",
      "async-lru                 2.0.4           py310haa95532_0  \n",
      "async-timeout             4.0.3           py310haa95532_0  \n",
      "attrs                     23.1.0          py310haa95532_0  \n",
      "babel                     2.11.0          py310haa95532_0  \n",
      "beautifulsoup4            4.12.3          py310haa95532_0  \n",
      "blas                      1.0                         mkl  \n",
      "bleach                    4.1.0              pyhd3eb1b0_0  \n",
      "blinker                   1.6.2           py310haa95532_0  \n",
      "brotli                    1.0.9                h2bbff1b_8  \n",
      "brotli-bin                1.0.9                h2bbff1b_8  \n",
      "brotli-python             1.0.9           py310hd77b12b_8  \n",
      "bzip2                     1.0.8                h2bbff1b_6  \n",
      "c-ares                    1.19.1               h2bbff1b_0  \n",
      "ca-certificates           2024.7.2             haa95532_0  \n",
      "cachetools                5.3.3           py310haa95532_0  \n",
      "certifi                   2024.7.4        py310haa95532_0  \n",
      "cffi                      1.16.0          py310h2bbff1b_1  \n",
      "charset-normalizer        3.3.2              pyhd3eb1b0_0  \n",
      "click                     8.1.7           py310haa95532_0  \n",
      "colorama                  0.4.6           py310haa95532_0  \n",
      "comm                      0.2.1           py310haa95532_0  \n",
      "contourpy                 1.2.0           py310h59b6b97_0  \n",
      "cryptography              41.0.3          py310h3438e0d_0  \n",
      "cycler                    0.11.0             pyhd3eb1b0_0  \n",
      "debugpy                   1.6.7           py310hd77b12b_0  \n",
      "decorator                 5.1.1              pyhd3eb1b0_0  \n",
      "defusedxml                0.7.1              pyhd3eb1b0_0  \n",
      "exceptiongroup            1.2.0           py310haa95532_0  \n",
      "executing                 0.8.3              pyhd3eb1b0_0  \n",
      "flatbuffers               2.0.0                h6c2663c_0  \n",
      "fonttools                 4.51.0          py310h2bbff1b_0  \n",
      "freetype                  2.12.1               ha860e81_0  \n",
      "frozenlist                1.4.0           py310h2bbff1b_0  \n",
      "gast                      0.4.0              pyhd3eb1b0_0  \n",
      "giflib                    5.2.1                h8cc25b3_3  \n",
      "google-auth               2.29.0          py310haa95532_0  \n",
      "google-auth-oauthlib      0.4.4              pyhd3eb1b0_0  \n",
      "google-pasta              0.2.0              pyhd3eb1b0_0  \n",
      "grpc-cpp                  1.48.2               hf108199_0  \n",
      "grpcio                    1.48.2          py310hf108199_0  \n",
      "h5py                      3.11.0          py310hed405ee_0  \n",
      "hdf5                      1.12.1               h51c971a_3  \n",
      "icc_rt                    2022.1.0             h6049295_2  \n",
      "icu                       58.2                 ha925a31_3  \n",
      "idna                      3.7             py310haa95532_0  \n",
      "intel-openmp              2023.1.0         h59b6b97_46320  \n",
      "ipykernel                 6.28.0          py310haa95532_0  \n",
      "ipython                   8.25.0          py310haa95532_0  \n",
      "jedi                      0.19.1          py310haa95532_0  \n",
      "jinja2                    3.1.4           py310haa95532_0  \n",
      "jpeg                      9e                   h827c3e9_3  \n",
      "json5                     0.9.6              pyhd3eb1b0_0  \n",
      "jsonschema                4.19.2          py310haa95532_0  \n",
      "jsonschema-specifications 2023.7.1        py310haa95532_0  \n",
      "jupyter-lsp               2.2.0           py310haa95532_0  \n",
      "jupyter_client            8.6.0           py310haa95532_0  \n",
      "jupyter_core              5.7.2           py310haa95532_0  \n",
      "jupyter_events            0.10.0          py310haa95532_0  \n",
      "jupyter_server            2.14.1          py310haa95532_0  \n",
      "jupyter_server_terminals  0.4.4           py310haa95532_1  \n",
      "jupyterlab                4.0.11          py310haa95532_0  \n",
      "jupyterlab_pygments       0.1.2                      py_0  \n",
      "jupyterlab_server         2.25.1          py310haa95532_0  \n",
      "keras                     2.10.0          py310haa95532_0  \n",
      "keras-preprocessing       1.1.2              pyhd3eb1b0_0  \n",
      "kiwisolver                1.4.4           py310hd77b12b_0  \n",
      "krb5                      1.20.1               h5b6d351_1  \n",
      "lcms2                     2.12                 h83e58a3_0  \n",
      "lerc                      3.0                  hd77b12b_0  \n",
      "libbrotlicommon           1.0.9                h2bbff1b_8  \n",
      "libbrotlidec              1.0.9                h2bbff1b_8  \n",
      "libbrotlienc              1.0.9                h2bbff1b_8  \n",
      "libclang                  14.0.6          default_hb5a9fac_1  \n",
      "libclang13                14.0.6          default_h8e68704_1  \n",
      "libcurl                   8.7.1                h86230a5_0  \n",
      "libdeflate                1.17                 h2bbff1b_1  \n",
      "libffi                    3.4.4                hd77b12b_1  \n",
      "libpng                    1.6.39               h8cc25b3_0  \n",
      "libpq                     12.15                hb652d5d_1  \n",
      "libprotobuf               3.20.3               h23ce68f_0  \n",
      "libsodium                 1.0.18               h62dcd97_0  \n",
      "libssh2                   1.10.0               hcd4344a_2  \n",
      "libtiff                   4.5.1                hd77b12b_0  \n",
      "libwebp-base              1.3.2                h2bbff1b_0  \n",
      "lz4-c                     1.9.4                h2bbff1b_1  \n",
      "markdown                  3.4.1           py310haa95532_0  \n",
      "markupsafe                2.1.3           py310h2bbff1b_0  \n",
      "matplotlib                3.8.4           py310haa95532_0  \n",
      "matplotlib-base           3.8.4           py310h4ed8f06_0  \n",
      "matplotlib-inline         0.1.6           py310haa95532_0  \n",
      "mistune                   2.0.4           py310haa95532_0  \n",
      "mkl                       2023.1.0         h6b88ed4_46358  \n",
      "mkl-service               2.4.0           py310h2bbff1b_1  \n",
      "mkl_fft                   1.3.8           py310h2bbff1b_0  \n",
      "mkl_random                1.2.4           py310h59b6b97_0  \n",
      "multidict                 6.0.4           py310h2bbff1b_0  \n",
      "nbclient                  0.8.0           py310haa95532_0  \n",
      "nbconvert                 7.10.0          py310haa95532_0  \n",
      "nbformat                  5.9.2           py310haa95532_0  \n",
      "nest-asyncio              1.6.0           py310haa95532_0  \n",
      "notebook-shim             0.2.3           py310haa95532_0  \n",
      "numpy                     1.26.4          py310h055cbcc_0  \n",
      "numpy-base                1.26.4          py310h65a83cf_0  \n",
      "oauthlib                  3.2.2           py310haa95532_0  \n",
      "openjpeg                  2.5.2                hae555c5_0  \n",
      "openssl                   1.1.1w               h2bbff1b_0  \n",
      "opt_einsum                3.3.0              pyhd3eb1b0_1  \n",
      "overrides                 7.4.0           py310haa95532_0  \n",
      "packaging                 24.1            py310haa95532_0  \n",
      "pandocfilters             1.5.0              pyhd3eb1b0_0  \n",
      "parso                     0.8.3              pyhd3eb1b0_0  \n",
      "pillow                    10.4.0          py310h827c3e9_0  \n",
      "pip                       24.0            py310haa95532_0  \n",
      "platformdirs              3.10.0          py310haa95532_0  \n",
      "ply                       3.11            py310haa95532_0  \n",
      "prometheus_client         0.14.1          py310haa95532_0  \n",
      "prompt-toolkit            3.0.43          py310haa95532_0  \n",
      "prompt_toolkit            3.0.43               hd3eb1b0_0  \n",
      "protobuf                  3.20.3          py310hd77b12b_0  \n",
      "psutil                    5.9.0           py310h2bbff1b_0  \n",
      "pure_eval                 0.2.2              pyhd3eb1b0_0  \n",
      "pyasn1                    0.4.8              pyhd3eb1b0_0  \n",
      "pyasn1-modules            0.2.8                      py_0  \n",
      "pybind11-abi              5                    hd3eb1b0_0  \n",
      "pycparser                 2.21               pyhd3eb1b0_0  \n",
      "pygments                  2.15.1          py310haa95532_1  \n",
      "pyjwt                     2.8.0           py310haa95532_0  \n",
      "pyopenssl                 23.2.0          py310haa95532_0  \n",
      "pyparsing                 3.0.9           py310haa95532_0  \n",
      "pyqt                      5.15.10         py310hd77b12b_0  \n",
      "pyqt5-sip                 12.13.0         py310h2bbff1b_0  \n",
      "pysocks                   1.7.1           py310haa95532_0  \n",
      "python                    3.10.13              h966fe2a_0  \n",
      "python-dateutil           2.9.0post0      py310haa95532_2  \n",
      "python-fastjsonschema     2.16.2          py310haa95532_0  \n",
      "python-flatbuffers        24.3.25         py310haa95532_0  \n",
      "python-json-logger        2.0.7           py310haa95532_0  \n",
      "pytz                      2024.1          py310haa95532_0  \n",
      "pywin32                   305             py310h2bbff1b_0  \n",
      "pywinpty                  2.0.10          py310h5da7b33_0  \n",
      "pyyaml                    6.0.1           py310h2bbff1b_0  \n",
      "pyzmq                     25.1.2          py310hd77b12b_0  \n",
      "qt-main                   5.15.2               h6072711_9  \n",
      "re2                       2022.04.01           hd77b12b_0  \n",
      "referencing               0.30.2          py310haa95532_0  \n",
      "requests                  2.32.3          py310haa95532_0  \n",
      "requests-oauthlib         2.0.0           py310haa95532_0  \n",
      "rfc3339-validator         0.1.4           py310haa95532_0  \n",
      "rfc3986-validator         0.1.1           py310haa95532_0  \n",
      "rpds-py                   0.10.6          py310h062c2fa_0  \n",
      "rsa                       4.7.2              pyhd3eb1b0_1  \n",
      "scipy                     1.13.1          py310h8640f81_0  \n",
      "send2trash                1.8.2           py310haa95532_0  \n",
      "setuptools                72.1.0          py310haa95532_0  \n",
      "sip                       6.7.12          py310hd77b12b_0  \n",
      "six                       1.16.0             pyhd3eb1b0_1  \n",
      "snappy                    1.1.10               h6c2663c_1  \n",
      "sniffio                   1.3.0           py310haa95532_0  \n",
      "soupsieve                 2.5             py310haa95532_0  \n",
      "sqlite                    3.45.3               h2bbff1b_0  \n",
      "stack_data                0.2.0              pyhd3eb1b0_0  \n",
      "tbb                       2021.8.0             h59b6b97_0  \n",
      "tensorboard               2.10.0          py310haa95532_0  \n",
      "tensorboard-data-server   0.6.1           py310haa95532_0  \n",
      "tensorboard-plugin-wit    1.8.1           py310haa95532_0  \n",
      "tensorflow                2.10.0          mkl_py310hd99672f_0  \n",
      "tensorflow-base           2.10.0          mkl_py310h6a7f48e_0  \n",
      "tensorflow-estimator      2.10.0          py310haa95532_0  \n",
      "termcolor                 2.1.0           py310haa95532_0  \n",
      "terminado                 0.17.1          py310haa95532_0  \n",
      "tinycss2                  1.2.1           py310haa95532_0  \n",
      "tk                        8.6.14               h0416ee5_0  \n",
      "tomli                     2.0.1           py310haa95532_0  \n",
      "tornado                   6.4.1           py310h827c3e9_0  \n",
      "tqdm                      4.66.4          py310h9909e9c_0  \n",
      "traitlets                 5.14.3          py310haa95532_0  \n",
      "typing-extensions         4.11.0          py310haa95532_0  \n",
      "typing_extensions         4.11.0          py310haa95532_0  \n",
      "tzdata                    2024a                h04d1e81_0  \n",
      "unicodedata2              15.1.0          py310h2bbff1b_0  \n",
      "urllib3                   2.2.2           py310haa95532_0  \n",
      "vc                        14.2                 h2eaa2aa_4  \n",
      "vs2015_runtime            14.29.30133          h43f2093_4  \n",
      "wcwidth                   0.2.5              pyhd3eb1b0_0  \n",
      "webencodings              0.5.1           py310haa95532_1  \n",
      "websocket-client          1.8.0           py310haa95532_0  \n",
      "werkzeug                  3.0.3           py310haa95532_0  \n",
      "wheel                     0.43.0          py310haa95532_0  \n",
      "win_inet_pton             1.1.0           py310haa95532_0  \n",
      "winpty                    0.4.3                         4  \n",
      "wrapt                     1.14.1          py310h2bbff1b_0  \n",
      "xz                        5.4.6                h8cc25b3_1  \n",
      "yaml                      0.2.5                he774522_0  \n",
      "yarl                      1.9.3           py310h2bbff1b_0  \n",
      "zeromq                    4.3.5                hd77b12b_0  \n",
      "zlib                      1.2.13               h8cc25b3_1  \n",
      "zstd                      1.5.5                hd43e919_2  \n"
     ]
    }
   ],
   "source": [
    "!conda list"
   ]
  },
  {
   "cell_type": "code",
   "execution_count": 57,
   "id": "a10bbd81-d9ce-4e6b-82cf-6050d6646a90",
   "metadata": {},
   "outputs": [
    {
     "name": "stdout",
     "output_type": "stream",
     "text": [
      "[2, 1, 5, 7]\n"
     ]
    },
    {
     "data": {
      "image/png": "[encoded data removed]",
      "text/plain": [
       "<Figure size 640x480 with 1 Axes>"
      ]
     },
     "metadata": {},
     "output_type": "display_data"
    }
   ],
   "source": [
    "rnd = np.random.randint(2501, 3001)\n",
    "y1 = mdl(x[rnd:rnd + 1])[\"y1\"].numpy()\n",
    "y2 = mdl(x[rnd:rnd + 1])[\"y2\"].numpy()\n",
    "y3 = mdl(x[rnd:rnd + 1])[\"y3\"].numpy()\n",
    "y4 = mdl(x[rnd:rnd + 1])[\"y4\"].numpy()\n",
    "print([np.argmax(y1), np.argmax(y2), np.argmax(y3), np.argmax(y4)])\n",
    "plt.imshow(x[rnd] / 256)\n",
    "plt.show()"
   ]
  }
 ],
 "metadata": {
  "kernelspec": {
   "display_name": "Python 3 (ipykernel)",
   "language": "python",
   "name": "python3"
  },
  "language_info": {
   "codemirror_mode": {
    "name": "ipython",
    "version": 3
   },
   "file_extension": ".py",
   "mimetype": "text/x-python",
   "name": "python",
   "nbconvert_exporter": "python",
   "pygments_lexer": "ipython3",
   "version": "3.11.5"
  }
 },
 "nbformat": 4,
 "nbformat_minor": 5
}
